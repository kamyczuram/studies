{
  "nbformat": 4,
  "nbformat_minor": 0,
  "metadata": {
    "colab": {
      "provenance": []
    },
    "kernelspec": {
      "name": "python3",
      "display_name": "Python 3"
    },
    "language_info": {
      "name": "python"
    }
  },
  "cells": [
    {
      "cell_type": "code",
      "execution_count": 1,
      "metadata": {
        "colab": {
          "base_uri": "https://localhost:8080/"
        },
        "id": "9ANOT-R3KMM9",
        "outputId": "ef89ea74-002e-4d74-af9b-0e0fbb8b92fe"
      },
      "outputs": [
        {
          "output_type": "stream",
          "name": "stdout",
          "text": [
            "Mounted at /content/drive\n"
          ]
        }
      ],
      "source": [
        "import pandas as pd\n",
        "import os\n",
        "from google.colab import drive\n",
        "drive.mount('/content/drive')\n",
        "path = '/content/drive/MyDrive/Psychologia/Magisterka/magisterka Psyche/Mateusz_Kamyczura_Praca_Magisterska/Kody/Baza danych'\n",
        "mABC_path = path + '/metryczkaABC'\n",
        "mXYZ_path = path + '/metryczkaXYZ'\n",
        "tABC_path = path + '/tabeleABC'\n",
        "tXYZ_path = path + '/tabeleXYZ'\n",
        "Klucz_path = path + '/Input'\n",
        "Output_path = path + '/Output'\n",
        "poprawneABC_path = Klucz_path + '/kluczABC.xlsx'\n",
        "ppoprawneXYZ_path = Klucz_path + '/kluczXYZ.xlsx'"
      ]
    },
    {
      "cell_type": "markdown",
      "source": [
        "##Wczytanie i połączenie danych\n"
      ],
      "metadata": {
        "id": "pntTQ3Gvu5KF"
      }
    },
    {
      "cell_type": "code",
      "source": [
        "poprawneABC = pd.read_excel(Klucz_path + '/kluczABC.xlsx')\n",
        "poprawneXYZ = pd.read_excel(Klucz_path + '/kluczXYZ.xlsx')"
      ],
      "metadata": {
        "id": "aG7yl2OsKTXi"
      },
      "execution_count": 2,
      "outputs": []
    },
    {
      "cell_type": "code",
      "source": [
        "AGL_A2 = [\"abccacb\", \"bacbcab\", \"abababcccab\", \"ababcabccab\",\n",
        "                  \"abcabcabcabcab\", \"abcababcab\", \"acbcabcab\", \"abcbcabccbcab\",\n",
        "                  \"abcabccab\", \"abcaabcaabcab\", \"aabcacbcaba\", \"ababcccababab\",\n",
        "                  \"abccababccab\", \"abcabccabcb\", \"abcabab\", \"abababababab\", \"abcacaab\",\n",
        "                  \"cabbbca\", \"accbacbab\", \"abcabcccab\", \"babcabcabccab\", \"ababab\",\n",
        "                  \"abcccab\", \"abababab\", \"abbcab\", \"abccab\", \"baccb\", \"abababccabcab\",\n",
        "                  \"abcabbab\", \"ababcabcab\", ]\n",
        "\n",
        "ALG_B2 = [\"XYXYYYYYYYYXYZ\", \"XXXXZZZXY\", \"XXXXYZZZZXY\", \"XZZZXXXY\", \"XZXYZZZXY\",\n",
        "                  \"XXYXXYXZZZZZZXY\", \"XXXXXXYYZZZZZXY\", \"XXYXYXZZZZZXY\", \"XXXXXXXZZZZZZXY\",\n",
        "                  \"XYYXXZZZZZXY\", \"XYYYYZZZZXY\", \"XXXXXYYYZXZZXY\", \"XYXXYYZZZZZXY\", \"XYZXY\",\n",
        "                  \"XYZYYYZZXYZ\", \"XYXYXYZYZZZXY\", \"XYYYZZZZZXY\", \"XXXYYXYZZZZZZXY\", \"XXXXYYZXYZZZZZY\",\n",
        "                  \"XXZXY\", \"XXYZZXY\", \"XXYXZZZXY\", \"XYYXYXYZZZZZZXY\", \"XZZZXY\", \"YYYZZZXY\", \"XYXXXZZXXXZYXY\",\n",
        "                  \"ZZXYXZZZXY\", \"XYXXZZZXY\", \"XXZZXY\", \"XXXZZXY\", ]\n"
      ],
      "metadata": {
        "id": "0NYTESmqeojX"
      },
      "execution_count": 3,
      "outputs": []
    },
    {
      "cell_type": "code",
      "source": [
        "poprawneABC['Ciąg'] = AGL_A2\n",
        "poprawneXYZ['Ciąg'] = ALG_B2"
      ],
      "metadata": {
        "id": "N72LMOqBelum"
      },
      "execution_count": 4,
      "outputs": []
    },
    {
      "cell_type": "code",
      "source": [
        "def polacz_metryczki(path):\n",
        "    # Funkcja łączy metryczki z folderu w jednego dużego DF\n",
        "    dataframes = []\n",
        "\n",
        "    # Przechodzenie przez wszystkie pliki w folderze\n",
        "    for file in os.listdir(path):\n",
        "        full_path = os.path.join(path, file)\n",
        "\n",
        "        # Sprawdzenie rozszerzenia pliku i wczytanie go do Pandas\n",
        "        if file.endswith(\".csv\"):\n",
        "            df = pd.read_csv(full_path, index_col=0)  # Pierwsza kolumna jako indeks\n",
        "            dataframes.append(df)\n",
        "        elif file.endswith(\".xlsx\") or file.endswith(\".xls\"):\n",
        "            df = pd.read_excel(full_path, index_col=0)  # Pierwsza kolumna jako indeks\n",
        "            dataframes.append(df)\n",
        "\n",
        "    # Jeśli nie znaleziono plików, zwracamy pusty DataFrame\n",
        "    if not dataframes:\n",
        "        return pd.DataFrame()\n",
        "\n",
        "    # Konkatenujemy wszystkie DataFrame'y w jeden\n",
        "    df_final = pd.concat(dataframes, ignore_index=False)  # Zachowujemy indeksy\n",
        "\n",
        "    # Resetujemy indeks\n",
        "    df_final.reset_index(drop=True, inplace=True)\n",
        "\n",
        "    return df_final"
      ],
      "metadata": {
        "id": "kEB_Rv42KeT1"
      },
      "execution_count": 5,
      "outputs": []
    },
    {
      "cell_type": "code",
      "source": [
        "metryczkiABC = polacz_metryczki(mABC_path)\n",
        "metryczkiXYZ = polacz_metryczki(mXYZ_path)"
      ],
      "metadata": {
        "id": "eUPxDPbHKtaM"
      },
      "execution_count": 6,
      "outputs": []
    },
    {
      "cell_type": "code",
      "source": [
        "def polacz_tabele(path: str) -> pd.DataFrame:\n",
        "    \"\"\"\n",
        "    Funkcja łączy wszystkie arkusze z plików Excel w folderze 'path', dodając kolumnę 'Key'\n",
        "    z nazwą arkusza, a następnie scala wszystkie arkusze w jedną tabelę.\n",
        "\n",
        "    :param path: Ścieżka do folderu zawierającego pliki Excel\n",
        "    :return: Połączony DataFrame\n",
        "    \"\"\"\n",
        "    all_data = []\n",
        "\n",
        "    for file in os.listdir(path):\n",
        "        if file.endswith(\".xlsx\") or file.endswith(\".xls\"):\n",
        "            file_path = os.path.join(path, file)\n",
        "            xls = pd.ExcelFile(file_path)\n",
        "\n",
        "            for sheet_name in xls.sheet_names:\n",
        "                df = pd.read_excel(xls, sheet_name=sheet_name)\n",
        "                df[\"Key\"] = sheet_name  # Dodaj kolumnę z nazwą arkusza\n",
        "                all_data.append(df)\n",
        "\n",
        "    merged_df = pd.concat(all_data, ignore_index=True)\n",
        "    return merged_df"
      ],
      "metadata": {
        "id": "vOY9cRg4KxOn"
      },
      "execution_count": 7,
      "outputs": []
    },
    {
      "cell_type": "code",
      "source": [
        "tabeleXYZ = polacz_tabele(tXYZ_path)\n",
        "tabeleABC = polacz_tabele(tABC_path)"
      ],
      "metadata": {
        "id": "4oDLK2z4KyxT"
      },
      "execution_count": 8,
      "outputs": []
    },
    {
      "cell_type": "code",
      "source": [
        "tabeleABC = tabeleABC[~tabeleABC[\"Lp.\"].isin([4, 23])]"
      ],
      "metadata": {
        "id": "K4yjknX4qFCm"
      },
      "execution_count": 9,
      "outputs": []
    },
    {
      "cell_type": "markdown",
      "source": [
        "##Odsianie obserwacji odstających"
      ],
      "metadata": {
        "id": "eWLBGPjbvy9V"
      }
    },
    {
      "cell_type": "code",
      "source": [
        "def sprawdz_poprawnosc_odpowiedzi(tabele: pd.DataFrame, poprawne: pd.DataFrame) -> pd.DataFrame:\n",
        "    \"\"\"\n",
        "    Funkcja łączy dwa DataFrame'y po kolumnie \"Lp\" i zwraca połączoną tabelę.\n",
        "    Dodatkowo dodaje kolumny 'CzyPoprawna' oraz 'obróconyOSAD'.\n",
        "    CzyPoprawna mówi o tym, czy dla danego badanego i danego pytania odpowiedź była poprawna\n",
        "    :param tabele: Pierwszy DataFrame\n",
        "    :param poprawne: Drugi DataFrame\n",
        "    :return: Połączony DataFrame\n",
        "    \"\"\"\n",
        "    merged_df = tabele.merge(poprawne, on=\"Lp.\", how=\"inner\")\n",
        "\n",
        "    # Dodaj kolumnę 'CzyPoprawna'\n",
        "    merged_df[\"CzyPoprawna\"] = merged_df.apply(lambda row: 1 if (row[\"OSAD\"] > 5 and row[\"G\"] == 1) or (row[\"OSAD\"] < 5 and row[\"G\"] == 0)\n",
        "                                                else 0 if row[\"OSAD\"] == 5\n",
        "                                                else -1, axis=1)\n",
        "\n",
        "    # Dodaj kolumnę 'obróconyOSAD'\n",
        "    merged_df[\"obróconyOSAD\"] = merged_df.apply(lambda row: row[\"OSAD\"] if row[\"G\"] == 1 else 10 - row[\"OSAD\"], axis=1)\n",
        "\n",
        "    return merged_df\n",
        "\n",
        "\n",
        "def policz_procenty(df):\n",
        "    \"\"\"\n",
        "    Liczy procent poprawnych odpowiedzi i procent odpowiedzi zgodnych z zasadą (I/Z == 2),\n",
        "    oraz dodaje kolumny 'mat', 'Wiek' i 'Kobieta' – sprawdzając ich spójność.\n",
        "\n",
        "    Argumenty:\n",
        "    df : pandas.DataFrame\n",
        "        Dane z kolumnami: 'Key', 'CzyPoprawna', 'I/Z', 'mat', 'Wiek', 'Kobieta'\n",
        "\n",
        "    Zwraca:\n",
        "    pandas.DataFrame z kolumnami:\n",
        "        'Key', 'ProcentPoprawnych', 'ProcentZasad', 'mat', 'Wiek', 'Kobieta'\n",
        "    \"\"\"\n",
        "\n",
        "    # Filtrowanie odpowiedzi różnej od 0 (np. brak odpowiedzi)\n",
        "    df_filtered = df[df[\"CzyPoprawna\"] != 0]\n",
        "\n",
        "    # Procent poprawnych odpowiedzi\n",
        "    procent_poprawnych = df_filtered.groupby(\"Key\")[\"CzyPoprawna\"].apply(lambda x: (x == 1).mean() * 100)\n",
        "\n",
        "    # Procent zasad (I/Z == 2)\n",
        "    procent_zasad = df.groupby(\"Key\")[\"I/Z\"].apply(lambda x: (x == 2).mean() * 100)\n",
        "\n",
        "    # Sprawdzamy, czy kolumna 'mat', 'Wiek' i 'Kobieta' mają unikalną wartość dla każdego Key\n",
        "    for col in ['mat', 'Wiek', 'Kobieta']:\n",
        "        values_per_key = df.groupby(\"Key\")[col].nunique()\n",
        "        if (values_per_key > 1).any():\n",
        "            raise ValueError(f\"Dla niektórych 'Key' kolumna '{col}' zawiera różne wartości!\")\n",
        "\n",
        "    # Pobieramy wartość 'mat', 'Wiek' i 'Kobieta' dla każdego Key (po jednej reprezentatywnej wartości)\n",
        "    mat_per_key = df.groupby(\"Key\")[\"mat\"].first()\n",
        "    wiek_per_key = df.groupby(\"Key\")[\"Wiek\"].first()\n",
        "    kobieta_per_key = df.groupby(\"Key\")[\"Kobieta\"].first()\n",
        "\n",
        "    # Łączymy wszystko\n",
        "    wynik = pd.concat([procent_poprawnych, procent_zasad, mat_per_key, wiek_per_key, kobieta_per_key], axis=1).reset_index()\n",
        "    wynik.columns = [\"Key\", \"ProcentPoprawnych\", \"ProcentZasad\", \"mat\", \"Wiek\", \"Kobieta\"]\n",
        "\n",
        "    return wynik\n",
        "\n",
        "def znajdz_odstajace_IQR(df):\n",
        "    \"\"\"\n",
        "    Zwraca listę wartości 'Key' dla obserwacji odstających metodą IQR (1.5 * IQR).\n",
        "\n",
        "    Argumenty:\n",
        "    df : pandas.DataFrame\n",
        "        Tabela z danymi, gdzie:\n",
        "        - \"Key\" to indeksy ludzi\n",
        "        - \"ProcentPoprawnych\" to wynik procentowy\n",
        "\n",
        "    Zwraca:\n",
        "    list : lista wartości 'Key' dla obserwacji odstających\n",
        "    \"\"\"\n",
        "\n",
        "    # Kopia danych\n",
        "    df = df.copy()\n",
        "\n",
        "    # Obliczamy kwartyle i IQR\n",
        "    Q1 = df['ProcentPoprawnych'].quantile(0.25)\n",
        "    Q3 = df['ProcentPoprawnych'].quantile(0.75)\n",
        "    IQR = Q3 - Q1\n",
        "\n",
        "    # Granice dla wartości odstających\n",
        "    dolna_granica = Q1 - 1.5 * IQR\n",
        "    gorna_granica = Q3 + 1.5 * IQR\n",
        "\n",
        "    # Wyszukujemy wartości odstające\n",
        "    maska_odstajace = (df['ProcentPoprawnych'] < dolna_granica) | (df['ProcentPoprawnych'] > gorna_granica)\n",
        "    usuniete = df.loc[maska_odstajace, 'Key'].tolist()\n",
        "\n",
        "    print(f\"Metoda odfiltrowania: IQR\")\n",
        "    if usuniete:\n",
        "        print(f\"Znalezione obserwacje odstające (Key): {usuniete}\")\n",
        "    else:\n",
        "        print(\"Nie znaleziono obserwacji odstających.\")\n",
        "\n",
        "    return usuniete\n"
      ],
      "metadata": {
        "id": "rnEwfgy9v2e2"
      },
      "execution_count": 10,
      "outputs": []
    },
    {
      "cell_type": "code",
      "source": [
        "tabeleABCuzup = sprawdz_poprawnosc_odpowiedzi(tabeleABC, poprawneABC)\n",
        "tabeleABCuzup = pd.merge(tabeleABCuzup, metryczkiABC, on=\"Key\")\n",
        "ProcentPoprwnychABC = policz_procenty(tabeleABCuzup)\n",
        "OdstajaceABC = znajdz_odstajace_IQR(ProcentPoprwnychABC)\n",
        "OdstajaceABC"
      ],
      "metadata": {
        "colab": {
          "base_uri": "https://localhost:8080/"
        },
        "id": "X_3otoy0wJQw",
        "outputId": "c1c092c9-2299-4cab-a4f5-d2f58815fd17"
      },
      "execution_count": 11,
      "outputs": [
        {
          "output_type": "stream",
          "name": "stdout",
          "text": [
            "Metoda odfiltrowania: IQR\n",
            "Znalezione obserwacje odstające (Key): ['Do1']\n"
          ]
        },
        {
          "output_type": "execute_result",
          "data": {
            "text/plain": [
              "['Do1']"
            ]
          },
          "metadata": {},
          "execution_count": 11
        }
      ]
    },
    {
      "cell_type": "code",
      "source": [
        "tabeleXYZuzup = sprawdz_poprawnosc_odpowiedzi(tabeleXYZ, poprawneXYZ)\n",
        "tabeleXYZuzup = pd.merge(tabeleXYZuzup, metryczkiXYZ, on=\"Key\")\n",
        "ProcentPoprwnychXYZ = policz_procenty(tabeleXYZuzup)\n",
        "OdstajaceXYZ = znajdz_odstajace_IQR(ProcentPoprwnychXYZ)\n",
        "OdstajaceXYZ"
      ],
      "metadata": {
        "colab": {
          "base_uri": "https://localhost:8080/"
        },
        "id": "tuqdO7TSx1gC",
        "outputId": "8a83b1f3-7d95-440a-e48c-455b43ec0992"
      },
      "execution_count": 12,
      "outputs": [
        {
          "output_type": "stream",
          "name": "stdout",
          "text": [
            "Metoda odfiltrowania: IQR\n",
            "Znalezione obserwacje odstające (Key): ['S2']\n"
          ]
        },
        {
          "output_type": "execute_result",
          "data": {
            "text/plain": [
              "['S2']"
            ]
          },
          "metadata": {},
          "execution_count": 12
        }
      ]
    },
    {
      "cell_type": "code",
      "source": [
        "tabeleABC_odfiltrowane = tabeleABCuzup[~tabeleABCuzup['Key'].isin(OdstajaceABC)]\n",
        "tabeleXYZ_odfiltrowane = tabeleXYZuzup[~tabeleXYZuzup['Key'].isin(OdstajaceXYZ)]"
      ],
      "metadata": {
        "id": "ytysMdh_yYH1"
      },
      "execution_count": 13,
      "outputs": []
    },
    {
      "cell_type": "code",
      "source": [
        "ABC = policz_procenty(tabeleABC_odfiltrowane)\n",
        "XYZ = policz_procenty(tabeleXYZ_odfiltrowane)"
      ],
      "metadata": {
        "id": "hmrzipDbDR1A"
      },
      "execution_count": 14,
      "outputs": []
    },
    {
      "cell_type": "code",
      "source": [
        "All = pd.concat([ABC, XYZ], ignore_index=True)"
      ],
      "metadata": {
        "id": "jmNylq__R6UL"
      },
      "execution_count": 15,
      "outputs": []
    },
    {
      "cell_type": "code",
      "source": [
        "All[\"Wiek\"].min()"
      ],
      "metadata": {
        "colab": {
          "base_uri": "https://localhost:8080/"
        },
        "id": "B_ZoqDaNUo0n",
        "outputId": "7c4c4dc9-65ff-43c5-8e6e-a9569d44bd1f"
      },
      "execution_count": 16,
      "outputs": [
        {
          "output_type": "execute_result",
          "data": {
            "text/plain": [
              "17"
            ]
          },
          "metadata": {},
          "execution_count": 16
        }
      ]
    },
    {
      "cell_type": "code",
      "source": [
        "All[\"Wiek\"].max()"
      ],
      "metadata": {
        "colab": {
          "base_uri": "https://localhost:8080/"
        },
        "id": "zgsM_QRATIxH",
        "outputId": "3efe2b0b-11a9-4325-ed66-e0fbe59d65f6"
      },
      "execution_count": 17,
      "outputs": [
        {
          "output_type": "execute_result",
          "data": {
            "text/plain": [
              "55"
            ]
          },
          "metadata": {},
          "execution_count": 17
        }
      ]
    },
    {
      "cell_type": "code",
      "source": [
        "All['Wiek'].mean()"
      ],
      "metadata": {
        "colab": {
          "base_uri": "https://localhost:8080/"
        },
        "id": "x6y0Y6S7UbI6",
        "outputId": "ce6ef19e-f640-42ac-fb39-286dc6fce2c8"
      },
      "execution_count": 18,
      "outputs": [
        {
          "output_type": "execute_result",
          "data": {
            "text/plain": [
              "np.float64(23.265060240963855)"
            ]
          },
          "metadata": {},
          "execution_count": 18
        }
      ]
    },
    {
      "cell_type": "code",
      "source": [
        "All['Wiek'].std()"
      ],
      "metadata": {
        "id": "-XF69tdUU5VG",
        "outputId": "d2d32b3b-28c7-4d30-b8b9-43b4a5bf13bf",
        "colab": {
          "base_uri": "https://localhost:8080/"
        }
      },
      "execution_count": 19,
      "outputs": [
        {
          "output_type": "execute_result",
          "data": {
            "text/plain": [
              "5.723473994830194"
            ]
          },
          "metadata": {},
          "execution_count": 19
        }
      ]
    },
    {
      "cell_type": "code",
      "source": [
        "All['Kobieta'].sum()"
      ],
      "metadata": {
        "colab": {
          "base_uri": "https://localhost:8080/"
        },
        "id": "H2whTd2nUrDR",
        "outputId": "74c07834-c727-4e3a-ee4e-355d426b413e"
      },
      "execution_count": 20,
      "outputs": [
        {
          "output_type": "execute_result",
          "data": {
            "text/plain": [
              "np.int64(41)"
            ]
          },
          "metadata": {},
          "execution_count": 20
        }
      ]
    },
    {
      "cell_type": "code",
      "source": [
        "len(All) - All['Kobieta'].sum()"
      ],
      "metadata": {
        "colab": {
          "base_uri": "https://localhost:8080/"
        },
        "id": "jVD4QMWJUxkg",
        "outputId": "6a13a05e-6904-46c0-c5b1-c2029707a54a"
      },
      "execution_count": 21,
      "outputs": [
        {
          "output_type": "execute_result",
          "data": {
            "text/plain": [
              "np.int64(42)"
            ]
          },
          "metadata": {},
          "execution_count": 21
        }
      ]
    },
    {
      "cell_type": "markdown",
      "source": [],
      "metadata": {
        "id": "epUg4grWAFX4"
      }
    },
    {
      "cell_type": "markdown",
      "source": [
        "##Przygotowanie danych pod analizę porównawczą matematyków i niematematyków\n",
        "\n",
        "\n",
        "---\n",
        "\n"
      ],
      "metadata": {
        "id": "rM6h8EJ5vTn3"
      }
    },
    {
      "cell_type": "code",
      "source": [
        "def grupowanie_po_wykształceniu(ABC, XYZ):\n",
        "    # Dodanie sufiksu do kolumny \"Key\"\n",
        "    ABC = ABC.copy()\n",
        "    XYZ = XYZ.copy()\n",
        "\n",
        "    ABC[\"Key\"] = ABC[\"Key\"].astype(str) + \"_ABC\"\n",
        "    XYZ[\"Key\"] = XYZ[\"Key\"].astype(str) + \"_XYZ\"\n",
        "\n",
        "    # Łączenie tabel\n",
        "    df = pd.concat([ABC, XYZ], ignore_index=True)\n",
        "\n",
        "    # Podział na \"mat\" i \"niemat\"\n",
        "    mat = df[df[\"mat\"] == 1].reset_index(drop=True)\n",
        "    niemat = df[df[\"mat\"] == 0].reset_index(drop=True)\n",
        "\n",
        "    return mat, niemat"
      ],
      "metadata": {
        "id": "x2X9Lb3Lvidf"
      },
      "execution_count": 22,
      "outputs": []
    },
    {
      "cell_type": "code",
      "source": [
        "mat, niemat = grupowanie_po_wykształceniu(ABC,XYZ)"
      ],
      "metadata": {
        "id": "O3KOc1UcviWY"
      },
      "execution_count": 23,
      "outputs": []
    },
    {
      "cell_type": "code",
      "source": [
        "mat.to_excel(Output_path + '/mat.xlsx', index=False)\n",
        "niemat.to_excel(Output_path + '/niemat.xlsx', index=False)"
      ],
      "metadata": {
        "id": "Rx6cSONpDfER"
      },
      "execution_count": 24,
      "outputs": []
    },
    {
      "cell_type": "markdown",
      "source": [
        "##Przygotowanie danych pod analizę porównawczą modeli\n",
        "\n",
        "\n",
        "---\n",
        "\n"
      ],
      "metadata": {
        "id": "M5Qm0KFPDrL4"
      }
    },
    {
      "cell_type": "code",
      "source": [
        "ABC.to_excel(Output_path + '/ABC.xlsx', index=False)\n",
        "XYZ.to_excel(Output_path + '/XYZ.xlsx', index=False)"
      ],
      "metadata": {
        "id": "b-_66nRxDq4V"
      },
      "execution_count": 25,
      "outputs": []
    },
    {
      "cell_type": "code",
      "source": [
        "def wypisz_odpowiedzi_z_procentem(df1, df2):\n",
        "    # Grupowanie danych po kolumnie \"Lp.\"\n",
        "    grouped = df1.groupby('Lp.')['CzyPoprawna'].value_counts().unstack(fill_value=0)\n",
        "\n",
        "    # Dodanie kolumny \"procent_poprawnych\"\n",
        "    grouped['procent_poprawnych'] = grouped[1] / (grouped[1] + grouped[-1]) * 100\n",
        "\n",
        "    return grouped.merge(df2, on=\"Lp.\")"
      ],
      "metadata": {
        "id": "r52867qCeaCl"
      },
      "execution_count": 26,
      "outputs": []
    },
    {
      "cell_type": "code",
      "source": [
        "PoprawnoscPytanABC = wypisz_odpowiedzi_z_procentem(tabeleABC_odfiltrowane,poprawneABC)\n",
        "PoprawnoscPytanXYZ = wypisz_odpowiedzi_z_procentem(tabeleXYZ_odfiltrowane,poprawneXYZ)"
      ],
      "metadata": {
        "id": "oPlCKrgQfl1l"
      },
      "execution_count": 27,
      "outputs": []
    },
    {
      "cell_type": "code",
      "source": [
        "PoprawnoscPytanABC.to_excel(Output_path + '/PoprawnoscPytanABC.xlsx', index=False)\n",
        "PoprawnoscPytanXYZ.to_excel(Output_path + '/PoprawnoscPytanXYZ.xlsx', index=False)"
      ],
      "metadata": {
        "id": "VMs-geqVgzrg"
      },
      "execution_count": 28,
      "outputs": []
    },
    {
      "cell_type": "markdown",
      "source": [
        "##Przygotowanie danych pod analizę pewności osądu gramatycznego\n",
        "---\n",
        "\n"
      ],
      "metadata": {
        "id": "bnE5qJwmEX6U"
      }
    },
    {
      "cell_type": "code",
      "source": [
        "pewnoscABC = tabeleABC_odfiltrowane[[\"Lp.\", \"CzyPoprawna\", \"mat\",  \"obróconyOSAD\", \"OSAD\", \"G\", \"Key\"]]\n",
        "pewnoscXYZ = tabeleXYZ_odfiltrowane[[\"Lp.\", \"CzyPoprawna\", \"mat\",  \"obróconyOSAD\", \"OSAD\", \"G\", \"Key\"]]"
      ],
      "metadata": {
        "id": "bOEyAptqDe51"
      },
      "execution_count": 29,
      "outputs": []
    },
    {
      "cell_type": "code",
      "source": [
        "pewnoscABC.to_excel(Output_path + '/pewnoscABC.xlsx', index=False)\n",
        "pewnoscXYZ.to_excel(Output_path + '/pewnoscXYZ.xlsx', index=False)"
      ],
      "metadata": {
        "id": "8Ey7RG1MKFF7"
      },
      "execution_count": 30,
      "outputs": []
    },
    {
      "cell_type": "markdown",
      "source": [
        "##Przygotowanie danych pod analizę odwoływania się do zasad i intuicji\n",
        "\n",
        "\n",
        "---\n",
        "\n"
      ],
      "metadata": {
        "id": "05Notqm1EiT-"
      }
    },
    {
      "cell_type": "code",
      "source": [
        "zasadyABC = tabeleABC_odfiltrowane[[\"Lp.\", \"CzyPoprawna\", \"I/Z\", \"mat\"]]\n",
        "zasadyXYZ = tabeleXYZ_odfiltrowane[[\"Lp.\", \"CzyPoprawna\", \"I/Z\", \"mat\"]]"
      ],
      "metadata": {
        "id": "Yv2gtOGuEpwk"
      },
      "execution_count": 31,
      "outputs": []
    },
    {
      "cell_type": "code",
      "source": [
        "zasadyABC.to_excel(Output_path + '/zasadyABC.xlsx', index=False)\n",
        "zasadyXYZ.to_excel(Output_path + '/zasadyXYZ.xlsx', index=False)"
      ],
      "metadata": {
        "id": "4uKSCFpNI711"
      },
      "execution_count": 32,
      "outputs": []
    },
    {
      "cell_type": "code",
      "source": [],
      "metadata": {
        "id": "FaSw-2t6nVG7"
      },
      "execution_count": 32,
      "outputs": []
    }
  ]
}