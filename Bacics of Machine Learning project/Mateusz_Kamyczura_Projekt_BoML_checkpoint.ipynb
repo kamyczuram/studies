{
  "cells": [
    {
      "cell_type": "markdown",
      "metadata": {
        "id": "hnZiC3VHi-Z0"
      },
      "source": [
        "## Loading Libraries"
      ]
    },
    {
      "cell_type": "code",
      "execution_count": null,
      "metadata": {
        "id": "iG7AP4IAi-Z8"
      },
      "outputs": [],
      "source": [
        "import pandas as pd\n",
        "import numpy as np\n",
        "import matplotlib.pyplot as plt\n",
        "import seaborn as sns\n",
        "from sklearn.model_selection import train_test_split\n",
        "from sklearn.preprocessing import MinMaxScaler\n",
        "from sklearn.neighbors import KNeighborsClassifier\n",
        "from sklearn.metrics import mean_squared_error\n",
        "from sklearn.linear_model import LogisticRegression\n",
        "from sklearn.preprocessing import StandardScaler\n",
        "from sklearn.decomposition import PCA\n",
        "from sklearn.metrics import mean_absolute_error\n",
        "from sklearn.model_selection import GridSearchCV\n",
        "import tensorflow.keras as keras\n",
        "from keras.models import Sequential\n",
        "from keras.wrappers.scikit_learn import KerasRegressor\n",
        "from keras.layers import Dense"
      ]
    },
    {
      "cell_type": "markdown",
      "metadata": {
        "id": "E9wTvSwri-Z_"
      },
      "source": [
        "## Data Preparing"
      ]
    },
    {
      "cell_type": "code",
      "execution_count": null,
      "metadata": {
        "id": "PDceDX7Qi-Z_",
        "outputId": "1f993c5d-3ea7-45ea-f000-6fd32c324eb9"
      },
      "outputs": [
        {
          "data": {
            "text/plain": [
              "school        0\n",
              "sex           0\n",
              "age           0\n",
              "address       0\n",
              "famsize       0\n",
              "Pstatus       0\n",
              "Medu          0\n",
              "Fedu          0\n",
              "Mjob          0\n",
              "Fjob          0\n",
              "reason        0\n",
              "guardian      0\n",
              "traveltime    0\n",
              "studytime     0\n",
              "failures      0\n",
              "schoolsup     0\n",
              "famsup        0\n",
              "paid          0\n",
              "activities    0\n",
              "nursery       0\n",
              "higher        0\n",
              "internet      0\n",
              "romantic      0\n",
              "famrel        0\n",
              "freetime      0\n",
              "goout         0\n",
              "Dalc          0\n",
              "Walc          0\n",
              "health        0\n",
              "absences      0\n",
              "G1            0\n",
              "G2            0\n",
              "G3            0\n",
              "dtype: int64"
            ]
          },
          "execution_count": 2,
          "metadata": {},
          "output_type": "execute_result"
        }
      ],
      "source": [
        "df = pd.read_csv(\"student-mat.csv\")\n",
        "df.isnull().sum()"
      ]
    },
    {
      "cell_type": "markdown",
      "metadata": {
        "id": "klksPBSBi-aB"
      },
      "source": [
        "### data cleaning"
      ]
    },
    {
      "cell_type": "code",
      "execution_count": null,
      "metadata": {
        "id": "VxFfQUMXi-aC",
        "outputId": "8fe5a355-7c33-4491-9c82-2d6ae67f5e07"
      },
      "outputs": [
        {
          "data": {
            "text/plain": [
              "sex           object\n",
              "age            int64\n",
              "traveltime     int64\n",
              "studytime      int64\n",
              "failures       int64\n",
              "internet      object\n",
              "romantic      object\n",
              "famrel         int64\n",
              "freetime       int64\n",
              "goout          int64\n",
              "Dalc           int64\n",
              "Walc           int64\n",
              "health         int64\n",
              "absences       int64\n",
              "G2             int64\n",
              "dtype: object"
            ]
          },
          "execution_count": 3,
          "metadata": {},
          "output_type": "execute_result"
        }
      ],
      "source": [
        "df=df.drop(['school', 'address', 'famsize', 'Pstatus', 'Medu', 'Fedu',\n",
        "       'Mjob', 'Fjob', 'reason', 'guardian', 'schoolsup', 'famsup', 'paid', 'activities', 'nursery',\n",
        "       'higher','G1','G3'], axis=1)\n",
        "df.dtypes"
      ]
    },
    {
      "cell_type": "code",
      "execution_count": null,
      "metadata": {
        "scrolled": true,
        "id": "2AcCkslSi-aC",
        "outputId": "28750c6d-cbaf-4882-9ce1-8a31c2059f76"
      },
      "outputs": [
        {
          "data": {
            "text/html": [
              "<div>\n",
              "<style scoped>\n",
              "    .dataframe tbody tr th:only-of-type {\n",
              "        vertical-align: middle;\n",
              "    }\n",
              "\n",
              "    .dataframe tbody tr th {\n",
              "        vertical-align: top;\n",
              "    }\n",
              "\n",
              "    .dataframe thead th {\n",
              "        text-align: right;\n",
              "    }\n",
              "</style>\n",
              "<table border=\"1\" class=\"dataframe\">\n",
              "  <thead>\n",
              "    <tr style=\"text-align: right;\">\n",
              "      <th></th>\n",
              "      <th>sex</th>\n",
              "      <th>age</th>\n",
              "      <th>traveltime</th>\n",
              "      <th>studytime</th>\n",
              "      <th>failures</th>\n",
              "      <th>internet</th>\n",
              "      <th>romantic</th>\n",
              "      <th>famrel</th>\n",
              "      <th>freetime</th>\n",
              "      <th>goout</th>\n",
              "      <th>Dalc</th>\n",
              "      <th>Walc</th>\n",
              "      <th>health</th>\n",
              "      <th>absences</th>\n",
              "      <th>G2</th>\n",
              "    </tr>\n",
              "  </thead>\n",
              "  <tbody>\n",
              "    <tr>\n",
              "      <th>0</th>\n",
              "      <td>F</td>\n",
              "      <td>18</td>\n",
              "      <td>2</td>\n",
              "      <td>2</td>\n",
              "      <td>0</td>\n",
              "      <td>no</td>\n",
              "      <td>no</td>\n",
              "      <td>4</td>\n",
              "      <td>3</td>\n",
              "      <td>4</td>\n",
              "      <td>1</td>\n",
              "      <td>1</td>\n",
              "      <td>3</td>\n",
              "      <td>6</td>\n",
              "      <td>6</td>\n",
              "    </tr>\n",
              "    <tr>\n",
              "      <th>1</th>\n",
              "      <td>F</td>\n",
              "      <td>17</td>\n",
              "      <td>1</td>\n",
              "      <td>2</td>\n",
              "      <td>0</td>\n",
              "      <td>yes</td>\n",
              "      <td>no</td>\n",
              "      <td>5</td>\n",
              "      <td>3</td>\n",
              "      <td>3</td>\n",
              "      <td>1</td>\n",
              "      <td>1</td>\n",
              "      <td>3</td>\n",
              "      <td>4</td>\n",
              "      <td>5</td>\n",
              "    </tr>\n",
              "    <tr>\n",
              "      <th>2</th>\n",
              "      <td>F</td>\n",
              "      <td>15</td>\n",
              "      <td>1</td>\n",
              "      <td>2</td>\n",
              "      <td>3</td>\n",
              "      <td>yes</td>\n",
              "      <td>no</td>\n",
              "      <td>4</td>\n",
              "      <td>3</td>\n",
              "      <td>2</td>\n",
              "      <td>2</td>\n",
              "      <td>3</td>\n",
              "      <td>3</td>\n",
              "      <td>10</td>\n",
              "      <td>8</td>\n",
              "    </tr>\n",
              "    <tr>\n",
              "      <th>3</th>\n",
              "      <td>F</td>\n",
              "      <td>15</td>\n",
              "      <td>1</td>\n",
              "      <td>3</td>\n",
              "      <td>0</td>\n",
              "      <td>yes</td>\n",
              "      <td>yes</td>\n",
              "      <td>3</td>\n",
              "      <td>2</td>\n",
              "      <td>2</td>\n",
              "      <td>1</td>\n",
              "      <td>1</td>\n",
              "      <td>5</td>\n",
              "      <td>2</td>\n",
              "      <td>14</td>\n",
              "    </tr>\n",
              "    <tr>\n",
              "      <th>4</th>\n",
              "      <td>F</td>\n",
              "      <td>16</td>\n",
              "      <td>1</td>\n",
              "      <td>2</td>\n",
              "      <td>0</td>\n",
              "      <td>no</td>\n",
              "      <td>no</td>\n",
              "      <td>4</td>\n",
              "      <td>3</td>\n",
              "      <td>2</td>\n",
              "      <td>1</td>\n",
              "      <td>2</td>\n",
              "      <td>5</td>\n",
              "      <td>4</td>\n",
              "      <td>10</td>\n",
              "    </tr>\n",
              "    <tr>\n",
              "      <th>...</th>\n",
              "      <td>...</td>\n",
              "      <td>...</td>\n",
              "      <td>...</td>\n",
              "      <td>...</td>\n",
              "      <td>...</td>\n",
              "      <td>...</td>\n",
              "      <td>...</td>\n",
              "      <td>...</td>\n",
              "      <td>...</td>\n",
              "      <td>...</td>\n",
              "      <td>...</td>\n",
              "      <td>...</td>\n",
              "      <td>...</td>\n",
              "      <td>...</td>\n",
              "      <td>...</td>\n",
              "    </tr>\n",
              "    <tr>\n",
              "      <th>390</th>\n",
              "      <td>M</td>\n",
              "      <td>20</td>\n",
              "      <td>1</td>\n",
              "      <td>2</td>\n",
              "      <td>2</td>\n",
              "      <td>no</td>\n",
              "      <td>no</td>\n",
              "      <td>5</td>\n",
              "      <td>5</td>\n",
              "      <td>4</td>\n",
              "      <td>4</td>\n",
              "      <td>5</td>\n",
              "      <td>4</td>\n",
              "      <td>11</td>\n",
              "      <td>9</td>\n",
              "    </tr>\n",
              "    <tr>\n",
              "      <th>391</th>\n",
              "      <td>M</td>\n",
              "      <td>17</td>\n",
              "      <td>2</td>\n",
              "      <td>1</td>\n",
              "      <td>0</td>\n",
              "      <td>yes</td>\n",
              "      <td>no</td>\n",
              "      <td>2</td>\n",
              "      <td>4</td>\n",
              "      <td>5</td>\n",
              "      <td>3</td>\n",
              "      <td>4</td>\n",
              "      <td>2</td>\n",
              "      <td>3</td>\n",
              "      <td>16</td>\n",
              "    </tr>\n",
              "    <tr>\n",
              "      <th>392</th>\n",
              "      <td>M</td>\n",
              "      <td>21</td>\n",
              "      <td>1</td>\n",
              "      <td>1</td>\n",
              "      <td>3</td>\n",
              "      <td>no</td>\n",
              "      <td>no</td>\n",
              "      <td>5</td>\n",
              "      <td>5</td>\n",
              "      <td>3</td>\n",
              "      <td>3</td>\n",
              "      <td>3</td>\n",
              "      <td>3</td>\n",
              "      <td>3</td>\n",
              "      <td>8</td>\n",
              "    </tr>\n",
              "    <tr>\n",
              "      <th>393</th>\n",
              "      <td>M</td>\n",
              "      <td>18</td>\n",
              "      <td>3</td>\n",
              "      <td>1</td>\n",
              "      <td>0</td>\n",
              "      <td>yes</td>\n",
              "      <td>no</td>\n",
              "      <td>4</td>\n",
              "      <td>4</td>\n",
              "      <td>1</td>\n",
              "      <td>3</td>\n",
              "      <td>4</td>\n",
              "      <td>5</td>\n",
              "      <td>0</td>\n",
              "      <td>12</td>\n",
              "    </tr>\n",
              "    <tr>\n",
              "      <th>394</th>\n",
              "      <td>M</td>\n",
              "      <td>19</td>\n",
              "      <td>1</td>\n",
              "      <td>1</td>\n",
              "      <td>0</td>\n",
              "      <td>yes</td>\n",
              "      <td>no</td>\n",
              "      <td>3</td>\n",
              "      <td>2</td>\n",
              "      <td>3</td>\n",
              "      <td>3</td>\n",
              "      <td>3</td>\n",
              "      <td>5</td>\n",
              "      <td>5</td>\n",
              "      <td>9</td>\n",
              "    </tr>\n",
              "  </tbody>\n",
              "</table>\n",
              "<p>395 rows × 15 columns</p>\n",
              "</div>"
            ],
            "text/plain": [
              "    sex  age  traveltime  studytime  failures internet romantic  famrel  \\\n",
              "0     F   18           2          2         0       no       no       4   \n",
              "1     F   17           1          2         0      yes       no       5   \n",
              "2     F   15           1          2         3      yes       no       4   \n",
              "3     F   15           1          3         0      yes      yes       3   \n",
              "4     F   16           1          2         0       no       no       4   \n",
              "..   ..  ...         ...        ...       ...      ...      ...     ...   \n",
              "390   M   20           1          2         2       no       no       5   \n",
              "391   M   17           2          1         0      yes       no       2   \n",
              "392   M   21           1          1         3       no       no       5   \n",
              "393   M   18           3          1         0      yes       no       4   \n",
              "394   M   19           1          1         0      yes       no       3   \n",
              "\n",
              "     freetime  goout  Dalc  Walc  health  absences  G2  \n",
              "0           3      4     1     1       3         6   6  \n",
              "1           3      3     1     1       3         4   5  \n",
              "2           3      2     2     3       3        10   8  \n",
              "3           2      2     1     1       5         2  14  \n",
              "4           3      2     1     2       5         4  10  \n",
              "..        ...    ...   ...   ...     ...       ...  ..  \n",
              "390         5      4     4     5       4        11   9  \n",
              "391         4      5     3     4       2         3  16  \n",
              "392         5      3     3     3       3         3   8  \n",
              "393         4      1     3     4       5         0  12  \n",
              "394         2      3     3     3       5         5   9  \n",
              "\n",
              "[395 rows x 15 columns]"
            ]
          },
          "execution_count": 4,
          "metadata": {},
          "output_type": "execute_result"
        }
      ],
      "source": [
        "df"
      ]
    },
    {
      "cell_type": "markdown",
      "metadata": {
        "id": "9qiUp3SRi-aE"
      },
      "source": [
        "### mapping values into binary"
      ]
    },
    {
      "cell_type": "code",
      "execution_count": null,
      "metadata": {
        "id": "vE4-MGThi-aF"
      },
      "outputs": [],
      "source": [
        "sex_mapping = {\"M\":0,\n",
        "                \"F\":1}\n",
        "i_r_mapping = {\"yes\":1,\n",
        "                \"no\":0}\n"
      ]
    },
    {
      "cell_type": "code",
      "execution_count": null,
      "metadata": {
        "id": "Wo14mXVxi-aG"
      },
      "outputs": [],
      "source": [
        "df[\"sex\"]=df[\"sex\"].map(sex_mapping)\n",
        "df[\"internet\"]=df[\"internet\"].map(i_r_mapping)\n",
        "df[\"romantic\"]=df[\"romantic\"].map(i_r_mapping)"
      ]
    },
    {
      "cell_type": "code",
      "execution_count": null,
      "metadata": {
        "id": "nfJDqiphi-aG",
        "outputId": "7d78b2a3-6be3-420b-cb70-cb10fbb91f78"
      },
      "outputs": [
        {
          "data": {
            "text/html": [
              "<div>\n",
              "<style scoped>\n",
              "    .dataframe tbody tr th:only-of-type {\n",
              "        vertical-align: middle;\n",
              "    }\n",
              "\n",
              "    .dataframe tbody tr th {\n",
              "        vertical-align: top;\n",
              "    }\n",
              "\n",
              "    .dataframe thead th {\n",
              "        text-align: right;\n",
              "    }\n",
              "</style>\n",
              "<table border=\"1\" class=\"dataframe\">\n",
              "  <thead>\n",
              "    <tr style=\"text-align: right;\">\n",
              "      <th></th>\n",
              "      <th>sex</th>\n",
              "      <th>age</th>\n",
              "      <th>traveltime</th>\n",
              "      <th>studytime</th>\n",
              "      <th>failures</th>\n",
              "      <th>internet</th>\n",
              "      <th>romantic</th>\n",
              "      <th>famrel</th>\n",
              "      <th>freetime</th>\n",
              "      <th>goout</th>\n",
              "      <th>Dalc</th>\n",
              "      <th>Walc</th>\n",
              "      <th>health</th>\n",
              "      <th>absences</th>\n",
              "      <th>G2</th>\n",
              "    </tr>\n",
              "  </thead>\n",
              "  <tbody>\n",
              "    <tr>\n",
              "      <th>0</th>\n",
              "      <td>1</td>\n",
              "      <td>18</td>\n",
              "      <td>2</td>\n",
              "      <td>2</td>\n",
              "      <td>0</td>\n",
              "      <td>0</td>\n",
              "      <td>0</td>\n",
              "      <td>4</td>\n",
              "      <td>3</td>\n",
              "      <td>4</td>\n",
              "      <td>1</td>\n",
              "      <td>1</td>\n",
              "      <td>3</td>\n",
              "      <td>6</td>\n",
              "      <td>6</td>\n",
              "    </tr>\n",
              "    <tr>\n",
              "      <th>1</th>\n",
              "      <td>1</td>\n",
              "      <td>17</td>\n",
              "      <td>1</td>\n",
              "      <td>2</td>\n",
              "      <td>0</td>\n",
              "      <td>1</td>\n",
              "      <td>0</td>\n",
              "      <td>5</td>\n",
              "      <td>3</td>\n",
              "      <td>3</td>\n",
              "      <td>1</td>\n",
              "      <td>1</td>\n",
              "      <td>3</td>\n",
              "      <td>4</td>\n",
              "      <td>5</td>\n",
              "    </tr>\n",
              "    <tr>\n",
              "      <th>2</th>\n",
              "      <td>1</td>\n",
              "      <td>15</td>\n",
              "      <td>1</td>\n",
              "      <td>2</td>\n",
              "      <td>3</td>\n",
              "      <td>1</td>\n",
              "      <td>0</td>\n",
              "      <td>4</td>\n",
              "      <td>3</td>\n",
              "      <td>2</td>\n",
              "      <td>2</td>\n",
              "      <td>3</td>\n",
              "      <td>3</td>\n",
              "      <td>10</td>\n",
              "      <td>8</td>\n",
              "    </tr>\n",
              "    <tr>\n",
              "      <th>3</th>\n",
              "      <td>1</td>\n",
              "      <td>15</td>\n",
              "      <td>1</td>\n",
              "      <td>3</td>\n",
              "      <td>0</td>\n",
              "      <td>1</td>\n",
              "      <td>1</td>\n",
              "      <td>3</td>\n",
              "      <td>2</td>\n",
              "      <td>2</td>\n",
              "      <td>1</td>\n",
              "      <td>1</td>\n",
              "      <td>5</td>\n",
              "      <td>2</td>\n",
              "      <td>14</td>\n",
              "    </tr>\n",
              "    <tr>\n",
              "      <th>4</th>\n",
              "      <td>1</td>\n",
              "      <td>16</td>\n",
              "      <td>1</td>\n",
              "      <td>2</td>\n",
              "      <td>0</td>\n",
              "      <td>0</td>\n",
              "      <td>0</td>\n",
              "      <td>4</td>\n",
              "      <td>3</td>\n",
              "      <td>2</td>\n",
              "      <td>1</td>\n",
              "      <td>2</td>\n",
              "      <td>5</td>\n",
              "      <td>4</td>\n",
              "      <td>10</td>\n",
              "    </tr>\n",
              "    <tr>\n",
              "      <th>...</th>\n",
              "      <td>...</td>\n",
              "      <td>...</td>\n",
              "      <td>...</td>\n",
              "      <td>...</td>\n",
              "      <td>...</td>\n",
              "      <td>...</td>\n",
              "      <td>...</td>\n",
              "      <td>...</td>\n",
              "      <td>...</td>\n",
              "      <td>...</td>\n",
              "      <td>...</td>\n",
              "      <td>...</td>\n",
              "      <td>...</td>\n",
              "      <td>...</td>\n",
              "      <td>...</td>\n",
              "    </tr>\n",
              "    <tr>\n",
              "      <th>390</th>\n",
              "      <td>0</td>\n",
              "      <td>20</td>\n",
              "      <td>1</td>\n",
              "      <td>2</td>\n",
              "      <td>2</td>\n",
              "      <td>0</td>\n",
              "      <td>0</td>\n",
              "      <td>5</td>\n",
              "      <td>5</td>\n",
              "      <td>4</td>\n",
              "      <td>4</td>\n",
              "      <td>5</td>\n",
              "      <td>4</td>\n",
              "      <td>11</td>\n",
              "      <td>9</td>\n",
              "    </tr>\n",
              "    <tr>\n",
              "      <th>391</th>\n",
              "      <td>0</td>\n",
              "      <td>17</td>\n",
              "      <td>2</td>\n",
              "      <td>1</td>\n",
              "      <td>0</td>\n",
              "      <td>1</td>\n",
              "      <td>0</td>\n",
              "      <td>2</td>\n",
              "      <td>4</td>\n",
              "      <td>5</td>\n",
              "      <td>3</td>\n",
              "      <td>4</td>\n",
              "      <td>2</td>\n",
              "      <td>3</td>\n",
              "      <td>16</td>\n",
              "    </tr>\n",
              "    <tr>\n",
              "      <th>392</th>\n",
              "      <td>0</td>\n",
              "      <td>21</td>\n",
              "      <td>1</td>\n",
              "      <td>1</td>\n",
              "      <td>3</td>\n",
              "      <td>0</td>\n",
              "      <td>0</td>\n",
              "      <td>5</td>\n",
              "      <td>5</td>\n",
              "      <td>3</td>\n",
              "      <td>3</td>\n",
              "      <td>3</td>\n",
              "      <td>3</td>\n",
              "      <td>3</td>\n",
              "      <td>8</td>\n",
              "    </tr>\n",
              "    <tr>\n",
              "      <th>393</th>\n",
              "      <td>0</td>\n",
              "      <td>18</td>\n",
              "      <td>3</td>\n",
              "      <td>1</td>\n",
              "      <td>0</td>\n",
              "      <td>1</td>\n",
              "      <td>0</td>\n",
              "      <td>4</td>\n",
              "      <td>4</td>\n",
              "      <td>1</td>\n",
              "      <td>3</td>\n",
              "      <td>4</td>\n",
              "      <td>5</td>\n",
              "      <td>0</td>\n",
              "      <td>12</td>\n",
              "    </tr>\n",
              "    <tr>\n",
              "      <th>394</th>\n",
              "      <td>0</td>\n",
              "      <td>19</td>\n",
              "      <td>1</td>\n",
              "      <td>1</td>\n",
              "      <td>0</td>\n",
              "      <td>1</td>\n",
              "      <td>0</td>\n",
              "      <td>3</td>\n",
              "      <td>2</td>\n",
              "      <td>3</td>\n",
              "      <td>3</td>\n",
              "      <td>3</td>\n",
              "      <td>5</td>\n",
              "      <td>5</td>\n",
              "      <td>9</td>\n",
              "    </tr>\n",
              "  </tbody>\n",
              "</table>\n",
              "<p>395 rows × 15 columns</p>\n",
              "</div>"
            ],
            "text/plain": [
              "     sex  age  traveltime  studytime  failures  internet  romantic  famrel  \\\n",
              "0      1   18           2          2         0         0         0       4   \n",
              "1      1   17           1          2         0         1         0       5   \n",
              "2      1   15           1          2         3         1         0       4   \n",
              "3      1   15           1          3         0         1         1       3   \n",
              "4      1   16           1          2         0         0         0       4   \n",
              "..   ...  ...         ...        ...       ...       ...       ...     ...   \n",
              "390    0   20           1          2         2         0         0       5   \n",
              "391    0   17           2          1         0         1         0       2   \n",
              "392    0   21           1          1         3         0         0       5   \n",
              "393    0   18           3          1         0         1         0       4   \n",
              "394    0   19           1          1         0         1         0       3   \n",
              "\n",
              "     freetime  goout  Dalc  Walc  health  absences  G2  \n",
              "0           3      4     1     1       3         6   6  \n",
              "1           3      3     1     1       3         4   5  \n",
              "2           3      2     2     3       3        10   8  \n",
              "3           2      2     1     1       5         2  14  \n",
              "4           3      2     1     2       5         4  10  \n",
              "..        ...    ...   ...   ...     ...       ...  ..  \n",
              "390         5      4     4     5       4        11   9  \n",
              "391         4      5     3     4       2         3  16  \n",
              "392         5      3     3     3       3         3   8  \n",
              "393         4      1     3     4       5         0  12  \n",
              "394         2      3     3     3       5         5   9  \n",
              "\n",
              "[395 rows x 15 columns]"
            ]
          },
          "execution_count": 7,
          "metadata": {},
          "output_type": "execute_result"
        }
      ],
      "source": [
        "df"
      ]
    },
    {
      "cell_type": "markdown",
      "metadata": {
        "id": "LOEJ65hpi-aH"
      },
      "source": [
        "### corelation plot"
      ]
    },
    {
      "cell_type": "code",
      "execution_count": null,
      "metadata": {
        "id": "KH6-74Dpi-aH",
        "outputId": "1d4dae99-0939-4f46-a6b9-977cef6e6649"
      },
      "outputs": [
        {
          "data": {
            "image/png": "[encoded data removed]",
            "text/plain": [
              "<Figure size 432x288 with 2 Axes>"
            ]
          },
          "metadata": {
            "needs_background": "light"
          },
          "output_type": "display_data"
        }
      ],
      "source": [
        "plt.figure()\n",
        "sns.heatmap(df.corr())\n",
        "plt.show()"
      ]
    },
    {
      "cell_type": "code",
      "execution_count": null,
      "metadata": {
        "id": "6edIVWQXi-aH"
      },
      "outputs": [],
      "source": [
        "X = df.drop(\"G2\", axis=1)\n",
        "y = df[\"G2\"]"
      ]
    },
    {
      "cell_type": "code",
      "execution_count": null,
      "metadata": {
        "id": "kPI6HBV_i-aI"
      },
      "outputs": [],
      "source": [
        "X_train, X_test, y_train, y_test = train_test_split(X, y, train_size=0.8)"
      ]
    },
    {
      "cell_type": "markdown",
      "metadata": {
        "id": "HlwXK0Qgi-aI"
      },
      "source": [
        "## KNN"
      ]
    },
    {
      "cell_type": "code",
      "execution_count": null,
      "metadata": {
        "id": "Dl1UUbyEi-aI",
        "outputId": "df05fddc-3183-4b9c-d3b7-3b6700dc0404"
      },
      "outputs": [
        {
          "data": {
            "text/plain": [
              "18.582278481012658"
            ]
          },
          "execution_count": 11,
          "metadata": {},
          "output_type": "execute_result"
        }
      ],
      "source": [
        "KNN = KNeighborsClassifier(n_neighbors=10)\n",
        "KNN = KNN.fit(X_train,y_train)\n",
        "mean_squared_error(KNN.predict(X_test), y_test)"
      ]
    },
    {
      "cell_type": "code",
      "execution_count": null,
      "metadata": {
        "id": "goXONQkIi-aJ"
      },
      "outputs": [],
      "source": [
        "param_range = np.linspace(1, 200, 200, dtype=np.int)\n",
        "scores_train = []\n",
        "scores_test = []"
      ]
    },
    {
      "cell_type": "markdown",
      "metadata": {
        "id": "vhE0j5lui-aJ"
      },
      "source": [
        "### counting mse for diffrent values of neighbors"
      ]
    },
    {
      "cell_type": "code",
      "execution_count": null,
      "metadata": {
        "id": "swe50YjVi-aJ"
      },
      "outputs": [],
      "source": [
        "for param in param_range:\n",
        "    KNN = KNeighborsClassifier(n_neighbors=param)\n",
        "    KNN = KNN.fit(X_train,y_train)\n",
        "    tmp_score = mean_squared_error(KNN.predict(X_test), y_test)\n",
        "    scores_test.append(tmp_score)\n",
        "    tmp_score = mean_squared_error(KNN.predict(X_train), y_train)\n",
        "    scores_train.append(tmp_score)"
      ]
    },
    {
      "cell_type": "markdown",
      "metadata": {
        "id": "j9iOL-Nxi-aJ"
      },
      "source": [
        "### making a plot for scores from above"
      ]
    },
    {
      "cell_type": "code",
      "execution_count": null,
      "metadata": {
        "id": "NC_WNHSYi-aJ",
        "outputId": "425b5b5d-5027-4cc6-9c56-447ea4783c86"
      },
      "outputs": [
        {
          "data": {
            "image/png": "[encoded data removed]",
            "text/plain": [
              "<Figure size 504x360 with 1 Axes>"
            ]
          },
          "metadata": {
            "needs_background": "light"
          },
          "output_type": "display_data"
        }
      ],
      "source": [
        "plt.figure(figsize=(7,5))\n",
        "\n",
        "plt.plot(scores_train, color= \"b\")\n",
        "plt.plot(scores_test, color= \"r\")\n",
        "\n",
        "plt.xlabel('number of neighbors')\n",
        "plt.ylabel('mse')\n",
        "\n",
        "plt.show()"
      ]
    },
    {
      "cell_type": "markdown",
      "metadata": {
        "id": "2_VYSmLYi-aK"
      },
      "source": [
        "## Logistic Regression"
      ]
    },
    {
      "cell_type": "code",
      "execution_count": null,
      "metadata": {
        "id": "qPKdl2Ibi-aK"
      },
      "outputs": [],
      "source": [
        "lr = LogisticRegression()\n",
        "standardScaler = StandardScaler()\n",
        "pca = PCA(n_components=3)\n",
        "\n",
        "standardScaler = standardScaler.fit(X_train)\n",
        "pca = pca.fit(standardScaler.transform(X_train))"
      ]
    },
    {
      "cell_type": "code",
      "execution_count": null,
      "metadata": {
        "id": "5vHsiQQii-aK",
        "outputId": "a21c8e37-e815-4bed-fe2a-5c31a94d3e46"
      },
      "outputs": [
        {
          "data": {
            "text/plain": [
              "14.455696202531646"
            ]
          },
          "execution_count": 16,
          "metadata": {},
          "output_type": "execute_result"
        }
      ],
      "source": [
        "lr = lr.fit(pca.transform(standardScaler.transform(X_train)), y_train)\n",
        "mean_squared_error(lr.predict(pca.transform(standardScaler.transform(X_test))), y_test)"
      ]
    },
    {
      "cell_type": "markdown",
      "metadata": {
        "id": "wmmDEw33i-aK"
      },
      "source": [
        "## Grid Search for Neural Networks"
      ]
    },
    {
      "cell_type": "markdown",
      "metadata": {
        "id": "Too-mMuNi-aL"
      },
      "source": [
        "### model creating for Grid Search"
      ]
    },
    {
      "cell_type": "code",
      "execution_count": null,
      "metadata": {
        "id": "hF7Kfj2Ai-aL"
      },
      "outputs": [],
      "source": [
        "def create_model(activation='relu'):\n",
        "    model = Sequential()\n",
        "    model.add(Dense(32, input_dim=14, kernel_initializer='uniform', activation=activation))\n",
        "    model.add(Dense(16,  kernel_initializer='uniform', activation='relu'))\n",
        "    model.add(Dense(8,  kernel_initializer='uniform', activation='relu'))\n",
        "    model.add(Dense(1, kernel_initializer='uniform'))\n",
        "    model.compile(loss='mse', metrics=[keras.metrics.MeanSquaredError()])\n",
        "    return model"
      ]
    },
    {
      "cell_type": "markdown",
      "metadata": {
        "id": "br-KOwIpi-aL"
      },
      "source": [
        "### making grid of params"
      ]
    },
    {
      "cell_type": "code",
      "execution_count": null,
      "metadata": {
        "id": "32lT6_ici-aL"
      },
      "outputs": [],
      "source": [
        "model = KerasRegressor(build_fn=create_model, verbose=0)\n",
        "activation = ['relu', 'tanh', 'sigmoid']\n",
        "batch_size = [8, 10, 16]\n",
        "epochs = [50, 70 , 90, 110]\n",
        "param_grid = dict(activation=activation, batch_size=batch_size, epochs=epochs)"
      ]
    },
    {
      "cell_type": "markdown",
      "metadata": {
        "id": "iT_DiCNYi-aL"
      },
      "source": [
        "### fitting  model for our data"
      ]
    },
    {
      "cell_type": "code",
      "execution_count": null,
      "metadata": {
        "id": "u6OaLN8Ji-aM"
      },
      "outputs": [],
      "source": [
        "grid = GridSearchCV(estimator=model, param_grid=param_grid, n_jobs=-1, scoring='neg_mean_squared_error')\n",
        "grid_result = grid.fit(X_train, y_train, validation_data=(X_test,y_test))"
      ]
    },
    {
      "cell_type": "markdown",
      "metadata": {
        "id": "gvPnHbq0i-aM"
      },
      "source": [
        "### finding best model, and showing results for each"
      ]
    },
    {
      "cell_type": "code",
      "execution_count": null,
      "metadata": {
        "id": "pYnUuoEji-aM",
        "outputId": "e41a72fb-6bb6-4b8e-de4c-ce19e4a75c1d"
      },
      "outputs": [
        {
          "name": "stdout",
          "output_type": "stream",
          "text": [
            "Best: -12.303624 using {'activation': 'tanh', 'batch_size': 8, 'epochs': 110}\n",
            "-13.186761 (1.906290) with: {'activation': 'relu', 'batch_size': 8, 'epochs': 50}\n",
            "-13.143034 (1.766592) with: {'activation': 'relu', 'batch_size': 8, 'epochs': 70}\n",
            "-13.049473 (1.611281) with: {'activation': 'relu', 'batch_size': 8, 'epochs': 90}\n",
            "-13.261265 (1.809553) with: {'activation': 'relu', 'batch_size': 8, 'epochs': 110}\n",
            "-13.639842 (2.416194) with: {'activation': 'relu', 'batch_size': 10, 'epochs': 50}\n",
            "-13.339516 (1.525336) with: {'activation': 'relu', 'batch_size': 10, 'epochs': 70}\n",
            "-13.463018 (1.927473) with: {'activation': 'relu', 'batch_size': 10, 'epochs': 90}\n",
            "-24.710319 (22.514808) with: {'activation': 'relu', 'batch_size': 10, 'epochs': 110}\n",
            "-14.306123 (2.346553) with: {'activation': 'relu', 'batch_size': 16, 'epochs': 50}\n",
            "-13.684042 (1.983643) with: {'activation': 'relu', 'batch_size': 16, 'epochs': 70}\n",
            "-30.463972 (34.559631) with: {'activation': 'relu', 'batch_size': 16, 'epochs': 90}\n",
            "-13.249197 (1.548157) with: {'activation': 'relu', 'batch_size': 16, 'epochs': 110}\n",
            "-13.916396 (2.005902) with: {'activation': 'tanh', 'batch_size': 8, 'epochs': 50}\n",
            "-25.184219 (25.974479) with: {'activation': 'tanh', 'batch_size': 8, 'epochs': 70}\n",
            "-25.461484 (24.974872) with: {'activation': 'tanh', 'batch_size': 8, 'epochs': 90}\n",
            "-12.303624 (1.772935) with: {'activation': 'tanh', 'batch_size': 8, 'epochs': 110}\n",
            "-13.946659 (2.625446) with: {'activation': 'tanh', 'batch_size': 10, 'epochs': 50}\n",
            "-13.021647 (2.292716) with: {'activation': 'tanh', 'batch_size': 10, 'epochs': 70}\n",
            "-13.152798 (2.927590) with: {'activation': 'tanh', 'batch_size': 10, 'epochs': 90}\n",
            "-12.919511 (1.587835) with: {'activation': 'tanh', 'batch_size': 10, 'epochs': 110}\n",
            "-14.183028 (2.424742) with: {'activation': 'tanh', 'batch_size': 16, 'epochs': 50}\n",
            "-13.169158 (1.329625) with: {'activation': 'tanh', 'batch_size': 16, 'epochs': 70}\n",
            "-13.392148 (2.469336) with: {'activation': 'tanh', 'batch_size': 16, 'epochs': 90}\n",
            "-13.264307 (1.833680) with: {'activation': 'tanh', 'batch_size': 16, 'epochs': 110}\n",
            "-14.049245 (2.388448) with: {'activation': 'sigmoid', 'batch_size': 8, 'epochs': 50}\n",
            "-13.249511 (1.330150) with: {'activation': 'sigmoid', 'batch_size': 8, 'epochs': 70}\n",
            "-12.900042 (1.306267) with: {'activation': 'sigmoid', 'batch_size': 8, 'epochs': 90}\n",
            "-22.932844 (18.835889) with: {'activation': 'sigmoid', 'batch_size': 8, 'epochs': 110}\n",
            "-14.138401 (2.318832) with: {'activation': 'sigmoid', 'batch_size': 10, 'epochs': 50}\n",
            "-28.314218 (28.830813) with: {'activation': 'sigmoid', 'batch_size': 10, 'epochs': 70}\n",
            "-13.400818 (1.761603) with: {'activation': 'sigmoid', 'batch_size': 10, 'epochs': 90}\n",
            "-13.274147 (1.876087) with: {'activation': 'sigmoid', 'batch_size': 10, 'epochs': 110}\n",
            "-14.471632 (2.218735) with: {'activation': 'sigmoid', 'batch_size': 16, 'epochs': 50}\n",
            "-14.095878 (2.426060) with: {'activation': 'sigmoid', 'batch_size': 16, 'epochs': 70}\n",
            "-13.896599 (2.610878) with: {'activation': 'sigmoid', 'batch_size': 16, 'epochs': 90}\n",
            "-13.163359 (1.306470) with: {'activation': 'sigmoid', 'batch_size': 16, 'epochs': 110}\n"
          ]
        }
      ],
      "source": [
        "print(\"Best: %f using %s\" % (grid_result.best_score_, grid_result.best_params_))\n",
        "means = grid_result.cv_results_['mean_test_score']\n",
        "stds = grid_result.cv_results_['std_test_score']\n",
        "params = grid_result.cv_results_['params']\n",
        "for mean, stdev, param in zip(means, stds, params):\n",
        "    print(\"%f (%f) with: %r\" % (mean, stdev, param))"
      ]
    },
    {
      "cell_type": "markdown",
      "metadata": {
        "id": "dQCf4iz6i-aM"
      },
      "source": [
        "### extracting best params"
      ]
    },
    {
      "cell_type": "code",
      "execution_count": null,
      "metadata": {
        "id": "77GACabUi-aN"
      },
      "outputs": [],
      "source": [
        "best_activation = grid_result.best_params_['activation']\n",
        "best_batch_size = grid_result.best_params_['batch_size']\n",
        "best_epochs = grid_result.best_params_['epochs']\n",
        "# best_epochs = 200"
      ]
    },
    {
      "cell_type": "markdown",
      "metadata": {
        "id": "IFfRN0AEi-aN"
      },
      "source": [
        "### creating model with best params"
      ]
    },
    {
      "cell_type": "code",
      "execution_count": null,
      "metadata": {
        "id": "AbG93YFfi-aN",
        "outputId": "6b88e734-f153-4b52-80fc-e34fba96cbc4"
      },
      "outputs": [
        {
          "name": "stdout",
          "output_type": "stream",
          "text": [
            "Model: \"sequential_4\"\n",
            "_________________________________________________________________\n",
            "Layer (type)                 Output Shape              Param #   \n",
            "=================================================================\n",
            "dense_16 (Dense)             (None, 32)                480       \n",
            "_________________________________________________________________\n",
            "dense_17 (Dense)             (None, 16)                528       \n",
            "_________________________________________________________________\n",
            "dense_18 (Dense)             (None, 8)                 136       \n",
            "_________________________________________________________________\n",
            "dense_19 (Dense)             (None, 1)                 9         \n",
            "=================================================================\n",
            "Total params: 1,153\n",
            "Trainable params: 1,153\n",
            "Non-trainable params: 0\n",
            "_________________________________________________________________\n"
          ]
        }
      ],
      "source": [
        "model = Sequential()\n",
        "model.add(Dense(32, input_dim=14, kernel_initializer='uniform', activation=best_activation))\n",
        "model.add(Dense(16,  kernel_initializer='uniform', activation='relu'))\n",
        "model.add(Dense(8,  kernel_initializer='uniform', activation='relu'))\n",
        "model.add(Dense(1, kernel_initializer='uniform'))\n",
        "model.compile(loss='mae', metrics=[keras.metrics.MeanSquaredError()])\n",
        "model.summary()"
      ]
    },
    {
      "cell_type": "code",
      "execution_count": null,
      "metadata": {
        "id": "aGfVlAYvi-aO",
        "outputId": "6bc096b2-38da-4d98-98ee-a7d1c9e85706"
      },
      "outputs": [
        {
          "name": "stdout",
          "output_type": "stream",
          "text": [
            "Epoch 1/110\n",
            "40/40 [==============================] - 0s 6ms/step - loss: 10.2415 - mean_squared_error: 118.8720 - val_loss: 10.6545 - val_mean_squared_error: 125.2902\n",
            "Epoch 2/110\n",
            "40/40 [==============================] - 0s 2ms/step - loss: 8.5700 - mean_squared_error: 85.9468 - val_loss: 7.8448 - val_mean_squared_error: 72.3005\n",
            "Epoch 3/110\n",
            "40/40 [==============================] - 0s 2ms/step - loss: 5.1535 - mean_squared_error: 36.3809 - val_loss: 3.6962 - val_mean_squared_error: 21.3793\n",
            "Epoch 4/110\n",
            "40/40 [==============================] - 0s 2ms/step - loss: 3.0219 - mean_squared_error: 14.7943 - val_loss: 2.9381 - val_mean_squared_error: 14.0413\n",
            "Epoch 5/110\n",
            "40/40 [==============================] - 0s 2ms/step - loss: 2.9956 - mean_squared_error: 14.6501 - val_loss: 2.9516 - val_mean_squared_error: 14.2364\n",
            "Epoch 6/110\n",
            "40/40 [==============================] - 0s 2ms/step - loss: 2.9857 - mean_squared_error: 14.4968 - val_loss: 3.0500 - val_mean_squared_error: 15.1801\n",
            "Epoch 7/110\n",
            "40/40 [==============================] - 0s 2ms/step - loss: 2.9861 - mean_squared_error: 14.6966 - val_loss: 3.0148 - val_mean_squared_error: 14.8985\n",
            "Epoch 8/110\n",
            "40/40 [==============================] - 0s 2ms/step - loss: 2.9609 - mean_squared_error: 14.3753 - val_loss: 3.1358 - val_mean_squared_error: 15.9256\n",
            "Epoch 9/110\n",
            "40/40 [==============================] - 0s 2ms/step - loss: 2.9950 - mean_squared_error: 14.6919 - val_loss: 2.9568 - val_mean_squared_error: 14.3153\n",
            "Epoch 10/110\n",
            "40/40 [==============================] - 0s 2ms/step - loss: 2.9814 - mean_squared_error: 14.5719 - val_loss: 2.8942 - val_mean_squared_error: 13.4758\n",
            "Epoch 11/110\n",
            "40/40 [==============================] - 0s 2ms/step - loss: 2.9820 - mean_squared_error: 14.7787 - val_loss: 2.8821 - val_mean_squared_error: 13.3384\n",
            "Epoch 12/110\n",
            "40/40 [==============================] - 0s 2ms/step - loss: 2.9673 - mean_squared_error: 14.3500 - val_loss: 2.7782 - val_mean_squared_error: 12.3760\n",
            "Epoch 13/110\n",
            "40/40 [==============================] - 0s 2ms/step - loss: 3.0055 - mean_squared_error: 14.7553 - val_loss: 2.8443 - val_mean_squared_error: 12.9625\n",
            "Epoch 14/110\n",
            "40/40 [==============================] - 0s 2ms/step - loss: 2.9919 - mean_squared_error: 14.4518 - val_loss: 2.9036 - val_mean_squared_error: 13.5877\n",
            "Epoch 15/110\n",
            "40/40 [==============================] - 0s 2ms/step - loss: 2.9810 - mean_squared_error: 14.6676 - val_loss: 2.8198 - val_mean_squared_error: 12.7608\n",
            "Epoch 16/110\n",
            "40/40 [==============================] - 0s 2ms/step - loss: 2.9776 - mean_squared_error: 14.6036 - val_loss: 2.9498 - val_mean_squared_error: 14.2106\n",
            "Epoch 17/110\n",
            "40/40 [==============================] - 0s 2ms/step - loss: 2.9418 - mean_squared_error: 14.2976 - val_loss: 2.7771 - val_mean_squared_error: 12.3435\n",
            "Epoch 18/110\n",
            "40/40 [==============================] - 0s 2ms/step - loss: 2.9474 - mean_squared_error: 14.5002 - val_loss: 2.9210 - val_mean_squared_error: 13.7963\n",
            "Epoch 19/110\n",
            "40/40 [==============================] - 0s 2ms/step - loss: 2.9661 - mean_squared_error: 14.3325 - val_loss: 2.9409 - val_mean_squared_error: 14.0464\n",
            "Epoch 20/110\n",
            "40/40 [==============================] - 0s 2ms/step - loss: 2.9511 - mean_squared_error: 14.1563 - val_loss: 2.8880 - val_mean_squared_error: 13.3303\n",
            "Epoch 21/110\n",
            "40/40 [==============================] - 0s 2ms/step - loss: 2.9368 - mean_squared_error: 14.0290 - val_loss: 2.9062 - val_mean_squared_error: 13.5158\n",
            "Epoch 22/110\n",
            "40/40 [==============================] - 0s 2ms/step - loss: 2.9126 - mean_squared_error: 13.7032 - val_loss: 2.8528 - val_mean_squared_error: 12.9462\n",
            "Epoch 23/110\n",
            "40/40 [==============================] - 0s 2ms/step - loss: 2.8963 - mean_squared_error: 13.6175 - val_loss: 2.9457 - val_mean_squared_error: 14.0428\n",
            "Epoch 24/110\n",
            "40/40 [==============================] - 0s 2ms/step - loss: 2.8872 - mean_squared_error: 13.3655 - val_loss: 2.8209 - val_mean_squared_error: 12.6722\n",
            "Epoch 25/110\n",
            "40/40 [==============================] - 0s 2ms/step - loss: 2.8705 - mean_squared_error: 13.1642 - val_loss: 2.8651 - val_mean_squared_error: 13.1300\n",
            "Epoch 26/110\n",
            "40/40 [==============================] - 0s 2ms/step - loss: 2.8630 - mean_squared_error: 13.2768 - val_loss: 2.7731 - val_mean_squared_error: 12.0495\n",
            "Epoch 27/110\n",
            "40/40 [==============================] - 0s 2ms/step - loss: 2.8634 - mean_squared_error: 13.2287 - val_loss: 2.8613 - val_mean_squared_error: 13.1523\n",
            "Epoch 28/110\n",
            "40/40 [==============================] - 0s 2ms/step - loss: 2.8605 - mean_squared_error: 13.1812 - val_loss: 2.7340 - val_mean_squared_error: 11.6623\n",
            "Epoch 29/110\n",
            "40/40 [==============================] - 0s 2ms/step - loss: 2.8438 - mean_squared_error: 13.0898 - val_loss: 2.7183 - val_mean_squared_error: 11.6263\n",
            "Epoch 30/110\n",
            "40/40 [==============================] - 0s 2ms/step - loss: 2.8747 - mean_squared_error: 13.2564 - val_loss: 2.8479 - val_mean_squared_error: 13.0609\n",
            "Epoch 31/110\n",
            "40/40 [==============================] - 0s 2ms/step - loss: 2.8586 - mean_squared_error: 13.1439 - val_loss: 2.7766 - val_mean_squared_error: 12.3583\n",
            "Epoch 32/110\n",
            "40/40 [==============================] - 0s 2ms/step - loss: 2.8464 - mean_squared_error: 13.0350 - val_loss: 2.8762 - val_mean_squared_error: 13.4755\n",
            "Epoch 33/110\n",
            "40/40 [==============================] - 0s 2ms/step - loss: 2.8502 - mean_squared_error: 12.9121 - val_loss: 2.7589 - val_mean_squared_error: 12.1532\n",
            "Epoch 34/110\n",
            "40/40 [==============================] - 0s 2ms/step - loss: 2.8412 - mean_squared_error: 12.9169 - val_loss: 2.7943 - val_mean_squared_error: 12.6571\n",
            "Epoch 35/110\n",
            "40/40 [==============================] - 0s 2ms/step - loss: 2.8320 - mean_squared_error: 12.8327 - val_loss: 2.7366 - val_mean_squared_error: 11.9097\n",
            "Epoch 36/110\n",
            "40/40 [==============================] - 0s 2ms/step - loss: 2.8302 - mean_squared_error: 12.8738 - val_loss: 2.7523 - val_mean_squared_error: 12.1944\n",
            "Epoch 37/110\n",
            "40/40 [==============================] - 0s 2ms/step - loss: 2.8224 - mean_squared_error: 12.8205 - val_loss: 2.7627 - val_mean_squared_error: 12.4212\n",
            "Epoch 38/110\n",
            "40/40 [==============================] - 0s 2ms/step - loss: 2.8353 - mean_squared_error: 12.8376 - val_loss: 2.7841 - val_mean_squared_error: 12.6656\n",
            "Epoch 39/110\n",
            "40/40 [==============================] - 0s 2ms/step - loss: 2.8384 - mean_squared_error: 12.8733 - val_loss: 2.7787 - val_mean_squared_error: 12.6262\n",
            "Epoch 40/110\n",
            "40/40 [==============================] - 0s 2ms/step - loss: 2.8120 - mean_squared_error: 12.7154 - val_loss: 2.7003 - val_mean_squared_error: 11.7054\n",
            "Epoch 41/110\n",
            "40/40 [==============================] - 0s 1ms/step - loss: 2.7907 - mean_squared_error: 12.5983 - val_loss: 2.6665 - val_mean_squared_error: 11.3539\n",
            "Epoch 42/110\n",
            "40/40 [==============================] - 0s 2ms/step - loss: 2.8063 - mean_squared_error: 12.6579 - val_loss: 2.7111 - val_mean_squared_error: 11.9507\n",
            "Epoch 43/110\n",
            "40/40 [==============================] - 0s 1ms/step - loss: 2.8000 - mean_squared_error: 12.5047 - val_loss: 2.7727 - val_mean_squared_error: 12.6917\n",
            "Epoch 44/110\n",
            "40/40 [==============================] - 0s 2ms/step - loss: 2.8098 - mean_squared_error: 12.7184 - val_loss: 2.7041 - val_mean_squared_error: 11.9293\n",
            "Epoch 45/110\n",
            "40/40 [==============================] - 0s 2ms/step - loss: 2.7931 - mean_squared_error: 12.5165 - val_loss: 2.8031 - val_mean_squared_error: 13.0111\n",
            "Epoch 46/110\n",
            "40/40 [==============================] - 0s 2ms/step - loss: 2.7962 - mean_squared_error: 12.3970 - val_loss: 2.6750 - val_mean_squared_error: 11.6767\n",
            "Epoch 47/110\n",
            "40/40 [==============================] - 0s 2ms/step - loss: 2.7914 - mean_squared_error: 12.5712 - val_loss: 2.7271 - val_mean_squared_error: 12.2936\n",
            "Epoch 48/110\n",
            "40/40 [==============================] - 0s 2ms/step - loss: 2.7884 - mean_squared_error: 12.4176 - val_loss: 2.8039 - val_mean_squared_error: 13.0833\n",
            "Epoch 49/110\n",
            "40/40 [==============================] - 0s 2ms/step - loss: 2.7939 - mean_squared_error: 12.4234 - val_loss: 2.7674 - val_mean_squared_error: 12.7269\n",
            "Epoch 50/110\n",
            "40/40 [==============================] - 0s 2ms/step - loss: 2.7932 - mean_squared_error: 12.4422 - val_loss: 2.8019 - val_mean_squared_error: 13.1516\n"
          ]
        },
        {
          "name": "stdout",
          "output_type": "stream",
          "text": [
            "Epoch 51/110\n",
            "40/40 [==============================] - 0s 2ms/step - loss: 2.7756 - mean_squared_error: 12.3838 - val_loss: 2.6417 - val_mean_squared_error: 11.4190\n",
            "Epoch 52/110\n",
            "40/40 [==============================] - 0s 2ms/step - loss: 2.7779 - mean_squared_error: 12.2536 - val_loss: 2.7552 - val_mean_squared_error: 12.7355\n",
            "Epoch 53/110\n",
            "40/40 [==============================] - 0s 2ms/step - loss: 2.7746 - mean_squared_error: 12.3856 - val_loss: 2.6919 - val_mean_squared_error: 12.0369\n",
            "Epoch 54/110\n",
            "40/40 [==============================] - 0s 1ms/step - loss: 2.7476 - mean_squared_error: 11.9279 - val_loss: 2.6579 - val_mean_squared_error: 11.7373\n",
            "Epoch 55/110\n",
            "40/40 [==============================] - 0s 2ms/step - loss: 2.7542 - mean_squared_error: 12.1875 - val_loss: 2.6226 - val_mean_squared_error: 11.4184\n",
            "Epoch 56/110\n",
            "40/40 [==============================] - 0s 2ms/step - loss: 2.7349 - mean_squared_error: 11.8162 - val_loss: 2.5831 - val_mean_squared_error: 11.0509\n",
            "Epoch 57/110\n",
            "40/40 [==============================] - 0s 1ms/step - loss: 2.7292 - mean_squared_error: 11.9744 - val_loss: 2.7830 - val_mean_squared_error: 12.9799\n",
            "Epoch 58/110\n",
            "40/40 [==============================] - 0s 1ms/step - loss: 2.7256 - mean_squared_error: 11.9329 - val_loss: 2.6705 - val_mean_squared_error: 11.9897\n",
            "Epoch 59/110\n",
            "40/40 [==============================] - 0s 2ms/step - loss: 2.7050 - mean_squared_error: 11.8802 - val_loss: 2.7167 - val_mean_squared_error: 12.3635\n",
            "Epoch 60/110\n",
            "40/40 [==============================] - 0s 2ms/step - loss: 2.7082 - mean_squared_error: 11.8053 - val_loss: 2.6658 - val_mean_squared_error: 11.9673\n",
            "Epoch 61/110\n",
            "40/40 [==============================] - 0s 2ms/step - loss: 2.6768 - mean_squared_error: 11.5770 - val_loss: 2.5427 - val_mean_squared_error: 10.9464\n",
            "Epoch 62/110\n",
            "40/40 [==============================] - 0s 2ms/step - loss: 2.6929 - mean_squared_error: 11.6323 - val_loss: 2.5947 - val_mean_squared_error: 11.4579\n",
            "Epoch 63/110\n",
            "40/40 [==============================] - 0s 2ms/step - loss: 2.6778 - mean_squared_error: 11.5154 - val_loss: 2.7276 - val_mean_squared_error: 12.3992\n",
            "Epoch 64/110\n",
            "40/40 [==============================] - 0s 2ms/step - loss: 2.6525 - mean_squared_error: 11.2869 - val_loss: 2.7176 - val_mean_squared_error: 12.2916\n",
            "Epoch 65/110\n",
            "40/40 [==============================] - 0s 2ms/step - loss: 2.6633 - mean_squared_error: 11.4626 - val_loss: 2.6228 - val_mean_squared_error: 11.6102\n",
            "Epoch 66/110\n",
            "40/40 [==============================] - 0s 2ms/step - loss: 2.6420 - mean_squared_error: 11.4582 - val_loss: 2.6615 - val_mean_squared_error: 11.8717\n",
            "Epoch 67/110\n",
            "40/40 [==============================] - 0s 2ms/step - loss: 2.6433 - mean_squared_error: 11.5403 - val_loss: 2.6408 - val_mean_squared_error: 11.7063\n",
            "Epoch 68/110\n",
            "40/40 [==============================] - 0s 2ms/step - loss: 2.6240 - mean_squared_error: 11.2054 - val_loss: 2.9630 - val_mean_squared_error: 14.2146\n",
            "Epoch 69/110\n",
            "40/40 [==============================] - 0s 2ms/step - loss: 2.6505 - mean_squared_error: 11.3045 - val_loss: 2.6545 - val_mean_squared_error: 11.8060\n",
            "Epoch 70/110\n",
            "40/40 [==============================] - 0s 2ms/step - loss: 2.6371 - mean_squared_error: 11.1330 - val_loss: 2.6025 - val_mean_squared_error: 11.4327\n",
            "Epoch 71/110\n",
            "40/40 [==============================] - 0s 2ms/step - loss: 2.5911 - mean_squared_error: 11.0081 - val_loss: 2.7027 - val_mean_squared_error: 12.1678\n",
            "Epoch 72/110\n",
            "40/40 [==============================] - 0s 2ms/step - loss: 2.6064 - mean_squared_error: 11.1926 - val_loss: 2.6802 - val_mean_squared_error: 11.9825\n",
            "Epoch 73/110\n",
            "40/40 [==============================] - 0s 1ms/step - loss: 2.5897 - mean_squared_error: 11.1931 - val_loss: 2.6101 - val_mean_squared_error: 11.4546\n",
            "Epoch 74/110\n",
            "40/40 [==============================] - 0s 2ms/step - loss: 2.6057 - mean_squared_error: 10.9821 - val_loss: 2.5745 - val_mean_squared_error: 11.1654\n",
            "Epoch 75/110\n",
            "40/40 [==============================] - 0s 1ms/step - loss: 2.6212 - mean_squared_error: 11.0709 - val_loss: 2.7850 - val_mean_squared_error: 12.7041\n",
            "Epoch 76/110\n",
            "40/40 [==============================] - 0s 2ms/step - loss: 2.5982 - mean_squared_error: 10.9879 - val_loss: 2.8477 - val_mean_squared_error: 13.2409\n",
            "Epoch 77/110\n",
            "40/40 [==============================] - 0s 1ms/step - loss: 2.6040 - mean_squared_error: 11.0562 - val_loss: 2.6085 - val_mean_squared_error: 11.4357\n",
            "Epoch 78/110\n",
            "40/40 [==============================] - 0s 2ms/step - loss: 2.6132 - mean_squared_error: 11.0578 - val_loss: 2.7202 - val_mean_squared_error: 12.2792\n",
            "Epoch 79/110\n",
            "40/40 [==============================] - 0s 2ms/step - loss: 2.5936 - mean_squared_error: 10.9849 - val_loss: 2.5867 - val_mean_squared_error: 11.2557\n",
            "Epoch 80/110\n",
            "40/40 [==============================] - 0s 2ms/step - loss: 2.6004 - mean_squared_error: 11.0073 - val_loss: 2.6213 - val_mean_squared_error: 11.5385\n",
            "Epoch 81/110\n",
            "40/40 [==============================] - 0s 2ms/step - loss: 2.6026 - mean_squared_error: 10.9118 - val_loss: 2.5727 - val_mean_squared_error: 11.1173\n",
            "Epoch 82/110\n",
            "40/40 [==============================] - 0s 2ms/step - loss: 2.5981 - mean_squared_error: 10.8629 - val_loss: 2.7169 - val_mean_squared_error: 12.3068\n",
            "Epoch 83/110\n",
            "40/40 [==============================] - 0s 2ms/step - loss: 2.6079 - mean_squared_error: 10.9642 - val_loss: 2.6100 - val_mean_squared_error: 11.4672\n",
            "Epoch 84/110\n",
            "40/40 [==============================] - 0s 2ms/step - loss: 2.5876 - mean_squared_error: 10.8027 - val_loss: 2.8402 - val_mean_squared_error: 13.1632\n",
            "Epoch 85/110\n",
            "40/40 [==============================] - 0s 1ms/step - loss: 2.5888 - mean_squared_error: 10.8099 - val_loss: 2.6842 - val_mean_squared_error: 12.0321\n",
            "Epoch 86/110\n",
            "40/40 [==============================] - 0s 2ms/step - loss: 2.6007 - mean_squared_error: 10.8380 - val_loss: 2.7215 - val_mean_squared_error: 12.3357\n",
            "Epoch 87/110\n",
            "40/40 [==============================] - 0s 2ms/step - loss: 2.5982 - mean_squared_error: 10.8067 - val_loss: 2.6594 - val_mean_squared_error: 11.8808\n",
            "Epoch 88/110\n",
            "40/40 [==============================] - 0s 2ms/step - loss: 2.5849 - mean_squared_error: 10.9440 - val_loss: 2.6988 - val_mean_squared_error: 12.1676\n",
            "Epoch 89/110\n",
            "40/40 [==============================] - 0s 2ms/step - loss: 2.5514 - mean_squared_error: 10.5912 - val_loss: 3.1251 - val_mean_squared_error: 15.3038\n",
            "Epoch 90/110\n",
            "40/40 [==============================] - 0s 2ms/step - loss: 2.6006 - mean_squared_error: 11.0370 - val_loss: 2.7855 - val_mean_squared_error: 12.8371\n",
            "Epoch 91/110\n",
            "40/40 [==============================] - 0s 2ms/step - loss: 2.5683 - mean_squared_error: 10.6618 - val_loss: 2.5280 - val_mean_squared_error: 10.8169\n",
            "Epoch 92/110\n",
            "40/40 [==============================] - 0s 2ms/step - loss: 2.5864 - mean_squared_error: 10.8672 - val_loss: 2.7582 - val_mean_squared_error: 12.5708\n",
            "Epoch 93/110\n",
            "40/40 [==============================] - 0s 2ms/step - loss: 2.5697 - mean_squared_error: 10.7773 - val_loss: 2.6430 - val_mean_squared_error: 11.7413\n",
            "Epoch 94/110\n",
            "40/40 [==============================] - 0s 1ms/step - loss: 2.5679 - mean_squared_error: 10.6820 - val_loss: 2.9103 - val_mean_squared_error: 13.6475\n",
            "Epoch 95/110\n",
            "40/40 [==============================] - 0s 2ms/step - loss: 2.5450 - mean_squared_error: 10.5337 - val_loss: 2.7057 - val_mean_squared_error: 12.1998\n",
            "Epoch 96/110\n",
            "40/40 [==============================] - 0s 2ms/step - loss: 2.5658 - mean_squared_error: 10.7498 - val_loss: 2.8872 - val_mean_squared_error: 13.5305\n",
            "Epoch 97/110\n",
            "40/40 [==============================] - 0s 2ms/step - loss: 2.5768 - mean_squared_error: 10.7117 - val_loss: 2.6366 - val_mean_squared_error: 11.7636\n",
            "Epoch 98/110\n",
            "40/40 [==============================] - 0s 1ms/step - loss: 2.5602 - mean_squared_error: 10.6510 - val_loss: 2.6455 - val_mean_squared_error: 11.8289\n",
            "Epoch 99/110\n",
            "40/40 [==============================] - 0s 2ms/step - loss: 2.5667 - mean_squared_error: 10.6150 - val_loss: 2.7440 - val_mean_squared_error: 12.5054\n",
            "Epoch 100/110\n",
            "40/40 [==============================] - 0s 1ms/step - loss: 2.5575 - mean_squared_error: 10.5588 - val_loss: 2.8050 - val_mean_squared_error: 12.9264\n"
          ]
        },
        {
          "name": "stdout",
          "output_type": "stream",
          "text": [
            "Epoch 101/110\n",
            "40/40 [==============================] - 0s 1ms/step - loss: 2.5513 - mean_squared_error: 10.6365 - val_loss: 2.8650 - val_mean_squared_error: 13.3268\n",
            "Epoch 102/110\n",
            "40/40 [==============================] - 0s 2ms/step - loss: 2.5572 - mean_squared_error: 10.6883 - val_loss: 2.6544 - val_mean_squared_error: 11.8266\n",
            "Epoch 103/110\n",
            "40/40 [==============================] - 0s 1ms/step - loss: 2.5763 - mean_squared_error: 10.6954 - val_loss: 2.6319 - val_mean_squared_error: 11.6400\n",
            "Epoch 104/110\n",
            "40/40 [==============================] - 0s 2ms/step - loss: 2.5573 - mean_squared_error: 10.7627 - val_loss: 2.5497 - val_mean_squared_error: 11.0610\n",
            "Epoch 105/110\n",
            "40/40 [==============================] - 0s 1ms/step - loss: 2.5655 - mean_squared_error: 10.6024 - val_loss: 2.6219 - val_mean_squared_error: 11.5552\n",
            "Epoch 106/110\n",
            "40/40 [==============================] - 0s 2ms/step - loss: 2.5572 - mean_squared_error: 10.7439 - val_loss: 2.7582 - val_mean_squared_error: 12.6066\n",
            "Epoch 107/110\n",
            "40/40 [==============================] - 0s 2ms/step - loss: 2.5330 - mean_squared_error: 10.6755 - val_loss: 2.5232 - val_mean_squared_error: 10.9510\n",
            "Epoch 108/110\n",
            "40/40 [==============================] - 0s 2ms/step - loss: 2.5525 - mean_squared_error: 10.5720 - val_loss: 2.7190 - val_mean_squared_error: 12.3479\n",
            "Epoch 109/110\n",
            "40/40 [==============================] - 0s 2ms/step - loss: 2.5180 - mean_squared_error: 10.4205 - val_loss: 2.7081 - val_mean_squared_error: 12.2065\n",
            "Epoch 110/110\n",
            "40/40 [==============================] - 0s 1ms/step - loss: 2.5218 - mean_squared_error: 10.4705 - val_loss: 2.7911 - val_mean_squared_error: 12.8238\n"
          ]
        }
      ],
      "source": [
        "history = model.fit(X_train, y_train, validation_data=(X_test,y_test), epochs = best_epochs, verbose=1, batch_size=best_batch_size)"
      ]
    },
    {
      "cell_type": "markdown",
      "metadata": {
        "id": "WqRXN6gEi-aQ"
      },
      "source": [
        "### Plot of mae and mse for this model"
      ]
    },
    {
      "cell_type": "code",
      "execution_count": null,
      "metadata": {
        "id": "LKdr7ajYi-aQ",
        "outputId": "98a45650-0696-4043-9be6-6324598bb4bf"
      },
      "outputs": [
        {
          "data": {
            "image/png": "[encoded data removed]",
            "text/plain": [
              "<Figure size 504x360 with 1 Axes>"
            ]
          },
          "metadata": {
            "needs_background": "light"
          },
          "output_type": "display_data"
        }
      ],
      "source": [
        "plt.figure(figsize=(7,5))\n",
        "\n",
        "plt.plot(range(best_epochs), history.history['loss'], color= \"b\")\n",
        "plt.plot(range(best_epochs), history.history['val_loss'], color= \"r\")\n",
        "\n",
        "plt.xlabel('epoch')\n",
        "plt.ylabel('mse')\n",
        "\n",
        "plt.show()"
      ]
    },
    {
      "cell_type": "code",
      "execution_count": null,
      "metadata": {
        "id": "amYiA3FKi-aQ",
        "outputId": "42be2bbd-895e-4952-edd8-6190587cf400"
      },
      "outputs": [
        {
          "data": {
            "image/png": "[encoded data removed]",
            "text/plain": [
              "<Figure size 504x360 with 1 Axes>"
            ]
          },
          "metadata": {
            "needs_background": "light"
          },
          "output_type": "display_data"
        }
      ],
      "source": [
        "plt.figure(figsize=(7,5))\n",
        "\n",
        "plt.plot(range(best_epochs), history.history['mean_squared_error'], color= \"b\")\n",
        "plt.plot(range(best_epochs), history.history['val_mean_squared_error'], color= \"r\")\n",
        "\n",
        "plt.xlabel('epoch')\n",
        "plt.ylabel('mae')\n",
        "\n",
        "plt.show()"
      ]
    },
    {
      "cell_type": "markdown",
      "metadata": {
        "id": "VqexIi8Wi-aQ"
      },
      "source": [
        "### Reccomend : You can change number of neurons in first layer in Grid Search to eg. [16,32,64]"
      ]
    },
    {
      "cell_type": "markdown",
      "source": [
        "Apparently los main file :/\n"
      ],
      "metadata": {
        "id": "hGE7nttujYpO"
      }
    },
    {
      "cell_type": "code",
      "execution_count": null,
      "metadata": {
        "id": "R3juyjRIi-aQ"
      },
      "outputs": [],
      "source": []
    },
    {
      "cell_type": "code",
      "execution_count": null,
      "metadata": {
        "id": "mpHx-cw5i-aR"
      },
      "outputs": [],
      "source": []
    }
  ],
  "metadata": {
    "kernelspec": {
      "display_name": "Python 3",
      "language": "python",
      "name": "python3"
    },
    "language_info": {
      "codemirror_mode": {
        "name": "ipython",
        "version": 3
      },
      "file_extension": ".py",
      "mimetype": "text/x-python",
      "name": "python",
      "nbconvert_exporter": "python",
      "pygments_lexer": "ipython3",
      "version": "3.8.3"
    },
    "colab": {
      "provenance": []
    }
  },
  "nbformat": 4,
  "nbformat_minor": 0
}