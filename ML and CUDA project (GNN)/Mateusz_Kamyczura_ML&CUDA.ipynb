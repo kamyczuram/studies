{
  "nbformat": 4,
  "nbformat_minor": 0,
  "metadata": {
    "colab": {
      "provenance": []
    },
    "kernelspec": {
      "name": "python3",
      "display_name": "Python 3"
    },
    "language_info": {
      "name": "python"
    }
  },
  "cells": [
    {
      "cell_type": "markdown",
      "source": [
        "\n",
        "\n",
        "#### Following project was realised within the course of Machine Learning and cuda in PHD school at AGH. Goal of the project was to create an model to forecast lipophilicity of given molecules using graph neural networks."
      ],
      "metadata": {
        "id": "Bfcjbg96gGlI"
      }
    },
    {
      "cell_type": "code",
      "execution_count": null,
      "metadata": {
        "colab": {
          "base_uri": "https://localhost:8080/"
        },
        "id": "_KGS5EmafzlW",
        "outputId": "e30d527a-a736-444c-9003-c993d44482d9"
      },
      "outputs": [
        {
          "output_type": "stream",
          "name": "stdout",
          "text": [
            "Looking in links: https://pytorch-geometric.com/whl/torch-2.0.1+cu118.html\n",
            "Requirement already satisfied: torch-scatter in /usr/local/lib/python3.10/dist-packages (2.1.1+pt20cu118)\n",
            "Looking in links: https://pytorch-geometric.com/whl/torch-2.0.1+cu118.html\n",
            "Requirement already satisfied: torch-sparse in /usr/local/lib/python3.10/dist-packages (0.6.17+pt20cu118)\n",
            "Requirement already satisfied: scipy in /usr/local/lib/python3.10/dist-packages (from torch-sparse) (1.10.1)\n",
            "Requirement already satisfied: numpy<1.27.0,>=1.19.5 in /usr/local/lib/python3.10/dist-packages (from scipy->torch-sparse) (1.22.4)\n",
            "Looking in links: https://pytorch-geometric.com/whl/torch-2.0.1+cu118.html\n",
            "Requirement already satisfied: torch-cluster in /usr/local/lib/python3.10/dist-packages (1.6.1+pt20cu118)\n",
            "Requirement already satisfied: scipy in /usr/local/lib/python3.10/dist-packages (from torch-cluster) (1.10.1)\n",
            "Requirement already satisfied: numpy<1.27.0,>=1.19.5 in /usr/local/lib/python3.10/dist-packages (from scipy->torch-cluster) (1.22.4)\n",
            "Looking in links: https://pytorch-geometric.com/whl/torch-2.0.1+cu118.html\n",
            "Requirement already satisfied: torch-spline-conv in /usr/local/lib/python3.10/dist-packages (1.2.2+pt20cu118)\n",
            "Requirement already satisfied: torch-geometric in /usr/local/lib/python3.10/dist-packages (2.3.1)\n",
            "Requirement already satisfied: tqdm in /usr/local/lib/python3.10/dist-packages (from torch-geometric) (4.65.0)\n",
            "Requirement already satisfied: numpy in /usr/local/lib/python3.10/dist-packages (from torch-geometric) (1.22.4)\n",
            "Requirement already satisfied: scipy in /usr/local/lib/python3.10/dist-packages (from torch-geometric) (1.10.1)\n",
            "Requirement already satisfied: jinja2 in /usr/local/lib/python3.10/dist-packages (from torch-geometric) (3.1.2)\n",
            "Requirement already satisfied: requests in /usr/local/lib/python3.10/dist-packages (from torch-geometric) (2.27.1)\n",
            "Requirement already satisfied: pyparsing in /usr/local/lib/python3.10/dist-packages (from torch-geometric) (3.1.0)\n",
            "Requirement already satisfied: scikit-learn in /usr/local/lib/python3.10/dist-packages (from torch-geometric) (1.2.2)\n",
            "Requirement already satisfied: psutil>=5.8.0 in /usr/local/lib/python3.10/dist-packages (from torch-geometric) (5.9.5)\n",
            "Requirement already satisfied: MarkupSafe>=2.0 in /usr/local/lib/python3.10/dist-packages (from jinja2->torch-geometric) (2.1.3)\n",
            "Requirement already satisfied: urllib3<1.27,>=1.21.1 in /usr/local/lib/python3.10/dist-packages (from requests->torch-geometric) (1.26.16)\n",
            "Requirement already satisfied: certifi>=2017.4.17 in /usr/local/lib/python3.10/dist-packages (from requests->torch-geometric) (2023.7.22)\n",
            "Requirement already satisfied: charset-normalizer~=2.0.0 in /usr/local/lib/python3.10/dist-packages (from requests->torch-geometric) (2.0.12)\n",
            "Requirement already satisfied: idna<4,>=2.5 in /usr/local/lib/python3.10/dist-packages (from requests->torch-geometric) (3.4)\n",
            "Requirement already satisfied: joblib>=1.1.1 in /usr/local/lib/python3.10/dist-packages (from scikit-learn->torch-geometric) (1.3.1)\n",
            "Requirement already satisfied: threadpoolctl>=2.0.0 in /usr/local/lib/python3.10/dist-packages (from scikit-learn->torch-geometric) (3.2.0)\n",
            "Requirement already satisfied: rdkit in /usr/local/lib/python3.10/dist-packages (2023.3.2)\n",
            "Requirement already satisfied: numpy in /usr/local/lib/python3.10/dist-packages (from rdkit) (1.22.4)\n",
            "Requirement already satisfied: Pillow in /usr/local/lib/python3.10/dist-packages (from rdkit) (9.4.0)\n"
          ]
        }
      ],
      "source": [
        "import torch\n",
        "pytorch_version = f\"torch-{torch.__version__}.html\"\n",
        "!pip install --no-index torch-scatter -f https://pytorch-geometric.com/whl/$pytorch_version\n",
        "!pip install --no-index torch-sparse -f https://pytorch-geometric.com/whl/$pytorch_version\n",
        "!pip install --no-index torch-cluster -f https://pytorch-geometric.com/whl/$pytorch_version\n",
        "!pip install --no-index torch-spline-conv -f https://pytorch-geometric.com/whl/$pytorch_version\n",
        "!pip install torch-geometric\n",
        "!pip install rdkit"
      ]
    },
    {
      "cell_type": "markdown",
      "source": [
        "#### First, let us import data"
      ],
      "metadata": {
        "id": "_sZDjKf3jk2r"
      }
    },
    {
      "cell_type": "code",
      "source": [
        "from torch_geometric.datasets import MoleculeNet\n",
        "\n",
        "data = MoleculeNet(root=\".\", name=\"lipo\")"
      ],
      "metadata": {
        "id": "uMQ0H10Zjia-"
      },
      "execution_count": null,
      "outputs": []
    },
    {
      "cell_type": "code",
      "source": [
        "print(data[0])"
      ],
      "metadata": {
        "colab": {
          "base_uri": "https://localhost:8080/"
        },
        "id": "UY5a3SMnkaoM",
        "outputId": "8ba809ad-4fa7-4d2d-dfb3-cffa1400c2df"
      },
      "execution_count": null,
      "outputs": [
        {
          "output_type": "stream",
          "name": "stdout",
          "text": [
            "Data(x=[24, 9], edge_index=[2, 54], edge_attr=[54, 3], smiles='Cn1c(CN2CCN(CC2)c3ccc(Cl)cc3)nc4ccccc14', y=[1, 1])\n"
          ]
        }
      ]
    },
    {
      "cell_type": "markdown",
      "source": [
        "#### Looking into a sample of data, we can see, that each element is a graph. This graph represents a molecule. Our goal would be to forecast lipophilicity of the molecule. Lipophilicity is ability of a chemical compound to dissolve in fats, oils, lipids, and non-polar solvents such as hexane or toluene. Lipophilicity of the particular molecule is contained in parameter y.\n",
        "\n",
        "#### In x matrix we can find parameters related to the verticies of the graph,\n",
        "#### edge_index encodes egdes beetween those vericies and in edge_attr we can find parameters related to edges.\n",
        "\n",
        "#### String smiles encodes this molecule in chemical notation and the information which could be provided from this notation is alredy provide in x and egde_attr, thus we would not make use of this part of the data.\n",
        "\n",
        "#### Using torch.geometric let us then construct and train our graph neural network."
      ],
      "metadata": {
        "id": "MgPteXB7kR3l"
      }
    },
    {
      "cell_type": "code",
      "source": [
        "import torch\n",
        "from torch.nn import Linear\n",
        "import torch.nn.functional as F\n",
        "from torch_geometric.nn import GCNConv\n",
        "from torch_geometric.nn import global_mean_pool, global_max_pool\n",
        "embedding_size = 16\n",
        "dense_neurons = 256\n",
        "\n",
        "class GCN(torch.nn.Module):\n",
        "    def __init__(self):\n",
        "\n",
        "        super(GCN, self).__init__()\n",
        "\n",
        "        self.initial_conv = GCNConv(data.num_features, embedding_size*8)\n",
        "        self.conv1 = GCNConv(embedding_size*8, embedding_size*4)\n",
        "        self.conv2 = GCNConv(embedding_size*4, embedding_size*2)\n",
        "        self.conv3 = GCNConv(embedding_size*2, embedding_size)\n",
        "\n",
        "        self.linear1 = Linear(embedding_size*2, dense_neurons)\n",
        "        self.linear2 = Linear(dense_neurons, 1)\n",
        "\n",
        "    def forward(self, x, edge_index, edge_attr, batch_index):\n",
        "\n",
        "        model = self.initial_conv(x, edge_index, edge_attr)\n",
        "        model = F.tanh(model)\n",
        "\n",
        "        model = self.conv1(model, edge_index, edge_attr)\n",
        "        model = F.relu(model)\n",
        "        model = self.conv2(model, edge_index, edge_attr)\n",
        "        model = F.relu(model)\n",
        "        model = self.conv3(model, edge_index, edge_attr)\n",
        "        model = F.relu(model)\n",
        "\n",
        "        #Aplying agragated global max and mean pooling\n",
        "        model = torch.cat([global_max_pool(model, batch_index),\n",
        "                            global_mean_pool(model, batch_index)], dim=1)\n",
        "\n",
        "        model = torch.relu(self.linear1(model))\n",
        "        model = self.linear2(model)\n",
        "\n",
        "        return model\n",
        "\n",
        "model = GCN()\n",
        "print(model)\n"
      ],
      "metadata": {
        "id": "wQUiSLR4lTic",
        "colab": {
          "base_uri": "https://localhost:8080/"
        },
        "outputId": "a5266c6e-cf02-4173-cb4c-6c9c37ff4d68"
      },
      "execution_count": null,
      "outputs": [
        {
          "output_type": "stream",
          "name": "stdout",
          "text": [
            "GCN(\n",
            "  (initial_conv): GCNConv(9, 128)\n",
            "  (conv1): GCNConv(128, 64)\n",
            "  (conv2): GCNConv(64, 32)\n",
            "  (conv3): GCNConv(32, 16)\n",
            "  (linear1): Linear(in_features=32, out_features=256, bias=True)\n",
            "  (linear2): Linear(in_features=256, out_features=1, bias=True)\n",
            ")\n"
          ]
        }
      ]
    },
    {
      "cell_type": "code",
      "source": [
        "from torch_geometric.loader import DataLoader\n",
        "import warnings\n",
        "import pandas as pd\n",
        "import numpy as np\n",
        "from sklearn.metrics import mean_squared_error\n",
        "import copy\n",
        "\n",
        "\n",
        "model_loss = torch.nn.MSELoss()\n",
        "optimizer = torch.optim.Adam(model.parameters(), lr=0.002)\n",
        "\n",
        "device = torch.device(\"cuda:0\" if torch.cuda.is_available() else \"cpu\")\n",
        "model = model.to(device)\n",
        "\n",
        "#Dividing data into train and test data\n",
        "data_size = len(data)\n",
        "batch_size = 16\n",
        "train_data = DataLoader(data[int(data_size * 0.2):],\n",
        "                    batch_size=batch_size, shuffle=True)\n",
        "\n",
        "\n",
        "def train(data, idx):\n",
        "    for batch in data:\n",
        "      batch.to(device)\n",
        "      optimizer.zero_grad()\n",
        "      pred = model(batch.x.float(), batch.edge_index, batch.edge_attr[:, idx % 3].float(), batch.batch)\n",
        "      loss = model_loss(pred, batch.y)\n",
        "      loss.backward()\n",
        "      optimizer.step()\n",
        "    return loss\n",
        "\n",
        "best_epoch = 0\n",
        "best_mse = 10\n",
        "train_data_losses = []\n",
        "test_data_losses = []\n",
        "for epoch in range(2001):\n",
        "    loss = train(train_data, epoch)\n",
        "    train_data_losses.append(loss)\n",
        "\n",
        "\n",
        "    if epoch % 50 == 0:\n",
        "\n",
        "      test_data = DataLoader(data[:int(data_size * 0.2)], batch_size=1, shuffle=True)\n",
        "      predictions = []\n",
        "      y_values = []\n",
        "      for batch in test_data:\n",
        "            batch.to(device)\n",
        "            prediction = model(batch.x.float(), batch.edge_index, batch.edge_attr[:, 1].float(), batch.batch)\n",
        "            predictions.append(prediction.item())\n",
        "            y_values.append(batch.y.item())\n",
        "\n",
        "      predictions = np.array(predictions)\n",
        "      real_values = np.array(y_values)\n",
        "      test_data_mse = mean_squared_error(predictions,real_values)\n",
        "      test_data_losses.append(test_data_mse)\n",
        "      print(f\"In epoch {epoch} loss on train data equals {loss} and the loss on test data equals {test_data_mse} \")\n",
        "      if best_mse > test_data_mse:\n",
        "        best_model = copy.deepcopy(model)\n",
        "        best_mse = copy.deepcopy(test_data_mse)\n",
        "        best_epoch = copy.deepcopy(epoch)\n",
        "\n",
        "print(test_data_losses)\n",
        "print(f\"Epoch {best_epoch} had the least mean squared error\")"
      ],
      "metadata": {
        "colab": {
          "base_uri": "https://localhost:8080/"
        },
        "id": "Xw-HsPybW7lM",
        "outputId": "e820fc4a-0b8f-465a-c08b-284a1aa0eabc"
      },
      "execution_count": null,
      "outputs": [
        {
          "output_type": "stream",
          "name": "stdout",
          "text": [
            "In epoch 0 loss on train data equals 0.9170002937316895 and the loss on test data equals 1.44954630430697 \n",
            "In epoch 50 loss on train data equals 1.2191112041473389 and the loss on test data equals 1.2370666452299266 \n",
            "In epoch 100 loss on train data equals 0.6215745806694031 and the loss on test data equals 0.8504346906179641 \n",
            "In epoch 150 loss on train data equals 0.7076681852340698 and the loss on test data equals 1.0641250208498516 \n",
            "In epoch 200 loss on train data equals 0.6153231263160706 and the loss on test data equals 0.8258590413245745 \n",
            "In epoch 250 loss on train data equals 0.7746205925941467 and the loss on test data equals 0.8036137799979818 \n",
            "In epoch 300 loss on train data equals 1.6819318532943726 and the loss on test data equals 0.8645802163197095 \n",
            "In epoch 350 loss on train data equals 0.4743208587169647 and the loss on test data equals 0.7236513306240387 \n",
            "In epoch 400 loss on train data equals 1.1455411911010742 and the loss on test data equals 0.739870257665996 \n",
            "In epoch 450 loss on train data equals 0.5129885673522949 and the loss on test data equals 0.7791119433661055 \n",
            "In epoch 500 loss on train data equals 0.5804899334907532 and the loss on test data equals 0.8297525151039458 \n",
            "In epoch 550 loss on train data equals 0.6478197574615479 and the loss on test data equals 0.7117443497596796 \n",
            "In epoch 600 loss on train data equals 0.6857563257217407 and the loss on test data equals 0.7850973553683066 \n",
            "In epoch 650 loss on train data equals 0.8647626638412476 and the loss on test data equals 0.7842952147085737 \n",
            "In epoch 700 loss on train data equals 0.7022905945777893 and the loss on test data equals 0.7036269277082439 \n",
            "In epoch 750 loss on train data equals 1.0204559564590454 and the loss on test data equals 0.7708153486426901 \n",
            "In epoch 800 loss on train data equals 0.7098865509033203 and the loss on test data equals 0.7232994996685888 \n",
            "In epoch 850 loss on train data equals 0.44635987281799316 and the loss on test data equals 0.6852791046673428 \n",
            "In epoch 900 loss on train data equals 0.40080365538597107 and the loss on test data equals 0.8723241944465302 \n",
            "In epoch 950 loss on train data equals 0.39655476808547974 and the loss on test data equals 0.7685689278571328 \n",
            "In epoch 1000 loss on train data equals 1.0324265956878662 and the loss on test data equals 0.7411350977320923 \n",
            "In epoch 1050 loss on train data equals 0.43270912766456604 and the loss on test data equals 0.723184977906203 \n",
            "In epoch 1100 loss on train data equals 0.2972266674041748 and the loss on test data equals 0.7556759137084249 \n",
            "In epoch 1150 loss on train data equals 0.6392786502838135 and the loss on test data equals 0.7168124259223413 \n",
            "In epoch 1200 loss on train data equals 0.6859642863273621 and the loss on test data equals 0.7986024873604012 \n",
            "In epoch 1250 loss on train data equals 0.47578901052474976 and the loss on test data equals 0.7664679044915845 \n",
            "In epoch 1300 loss on train data equals 0.4908255636692047 and the loss on test data equals 0.7226022111653395 \n",
            "In epoch 1350 loss on train data equals 0.43061238527297974 and the loss on test data equals 0.802277013154165 \n",
            "In epoch 1400 loss on train data equals 0.308630108833313 and the loss on test data equals 0.7539067899508055 \n",
            "In epoch 1450 loss on train data equals 0.692301332950592 and the loss on test data equals 0.7323342590911897 \n",
            "In epoch 1500 loss on train data equals 0.41028866171836853 and the loss on test data equals 0.7795998098194005 \n",
            "In epoch 1550 loss on train data equals 0.3604317605495453 and the loss on test data equals 0.8674076459007402 \n",
            "In epoch 1600 loss on train data equals 0.5021146535873413 and the loss on test data equals 0.7057018858784321 \n",
            "In epoch 1650 loss on train data equals 0.43724915385246277 and the loss on test data equals 0.8118802928853199 \n",
            "In epoch 1700 loss on train data equals 0.46561524271965027 and the loss on test data equals 0.722577751151595 \n",
            "In epoch 1750 loss on train data equals 0.23903658986091614 and the loss on test data equals 0.7337437447293196 \n",
            "In epoch 1800 loss on train data equals 0.37922897934913635 and the loss on test data equals 0.7863730999335027 \n",
            "In epoch 1850 loss on train data equals 0.811066210269928 and the loss on test data equals 0.746234922903014 \n",
            "In epoch 1900 loss on train data equals 0.3523765802383423 and the loss on test data equals 0.7851842298401823 \n",
            "In epoch 1950 loss on train data equals 0.527736246585846 and the loss on test data equals 0.8389769188705538 \n",
            "In epoch 2000 loss on train data equals 0.38134658336639404 and the loss on test data equals 0.800329809888142 \n",
            "[1.44954630430697, 1.2370666452299266, 0.8504346906179641, 1.0641250208498516, 0.8258590413245745, 0.8036137799979818, 0.8645802163197095, 0.7236513306240387, 0.739870257665996, 0.7791119433661055, 0.8297525151039458, 0.7117443497596796, 0.7850973553683066, 0.7842952147085737, 0.7036269277082439, 0.7708153486426901, 0.7232994996685888, 0.6852791046673428, 0.8723241944465302, 0.7685689278571328, 0.7411350977320923, 0.723184977906203, 0.7556759137084249, 0.7168124259223413, 0.7986024873604012, 0.7664679044915845, 0.7226022111653395, 0.802277013154165, 0.7539067899508055, 0.7323342590911897, 0.7795998098194005, 0.8674076459007402, 0.7057018858784321, 0.8118802928853199, 0.722577751151595, 0.7337437447293196, 0.7863730999335027, 0.746234922903014, 0.7851842298401823, 0.8389769188705538, 0.800329809888142]\n",
            "Epoch 850 had the least mean squared error\n"
          ]
        }
      ]
    },
    {
      "cell_type": "code",
      "source": [],
      "metadata": {
        "id": "X4jsUJ0o1Z8s"
      },
      "execution_count": null,
      "outputs": []
    },
    {
      "cell_type": "markdown",
      "source": [
        "#### Blue plot show us mean squared error on train data, and the orange one is an error for test data. Clearly we can see that this model wouldnt get any better if we would train him further.\n",
        "\n"
      ],
      "metadata": {
        "id": "_Ku6PxDJdsiu"
      }
    },
    {
      "cell_type": "code",
      "source": [
        "import matplotlib.pyplot as plt\n",
        "\n",
        "test_data_losses\n",
        "test_data_losses_long = []\n",
        "for i in range(len(test_data_losses)):\n",
        "  for j in range(50):\n",
        "    test_data_losses_long.append(test_data_losses[i])\n",
        "\n",
        "plt.plot(list(map(lambda x: x.item(), train_data_losses)))\n",
        "plt.plot(list(map(lambda x: x.item(), test_data_losses_long)))\n",
        "plt"
      ],
      "metadata": {
        "colab": {
          "base_uri": "https://localhost:8080/",
          "height": 447
        },
        "id": "ttCDXUTtl9az",
        "outputId": "aeb57d98-a213-4918-a10a-a5c59d5d2fc4"
      },
      "execution_count": null,
      "outputs": [
        {
          "output_type": "execute_result",
          "data": {
            "text/plain": [
              "<module 'matplotlib.pyplot' from '/usr/local/lib/python3.10/dist-packages/matplotlib/pyplot.py'>"
            ]
          },
          "metadata": {},
          "execution_count": 6
        },
        {
          "output_type": "display_data",
          "data": {
            "text/plain": [
              "<Figure size 640x480 with 1 Axes>"
            ],
            "image/png": "[encoded data removed]"
          },
          "metadata": {}
        }
      ]
    },
    {
      "cell_type": "markdown",
      "source": [
        "#### Since we saved model with the smallest error while learning we could see the results and compare it to the average-based model."
      ],
      "metadata": {
        "id": "n-xyIYyQmytV"
      }
    },
    {
      "cell_type": "code",
      "source": [
        "test_data = DataLoader(data[:int(data_size * 0.2)], batch_size=1, shuffle=True)\n",
        "predictions = []\n",
        "y_values = []\n",
        "for batch in test_data:\n",
        "            batch.to(device)\n",
        "            prediction = best_model(batch.x.float(), batch.edge_index, batch.edge_attr[:, 1].float(), batch.batch)\n",
        "            predictions.append(prediction.item())\n",
        "            y_values.append(batch.y.item())\n",
        "\n",
        "predictions = np.array(predictions)\n",
        "real_values = np.array(y_values)\n",
        "\n",
        "df = pd.DataFrame()\n",
        "df[\"real values\"] = real_values\n",
        "df[\"predictions\"] = predictions\n",
        "df"
      ],
      "metadata": {
        "id": "imy2_sP0m9hj",
        "colab": {
          "base_uri": "https://localhost:8080/",
          "height": 424
        },
        "outputId": "d70ee273-0514-4d2f-cc58-fc356cedcf67"
      },
      "execution_count": null,
      "outputs": [
        {
          "output_type": "execute_result",
          "data": {
            "text/plain": [
              "     real values  predictions\n",
              "0           0.50     1.406229\n",
              "1           1.60     1.677708\n",
              "2          -1.17    -0.038724\n",
              "3          -0.45     0.780703\n",
              "4           1.96     1.836084\n",
              "..           ...          ...\n",
              "835         1.26     1.812793\n",
              "836         2.83     1.511309\n",
              "837         1.34     1.420708\n",
              "838         0.86     1.146283\n",
              "839         0.97     2.025645\n",
              "\n",
              "[840 rows x 2 columns]"
            ],
            "text/html": [
              "\n",
              "\n",
              "  <div id=\"df-bac1e902-f896-4aac-b9b7-247e3bb0abb9\">\n",
              "    <div class=\"colab-df-container\">\n",
              "      <div>\n",
              "<style scoped>\n",
              "    .dataframe tbody tr th:only-of-type {\n",
              "        vertical-align: middle;\n",
              "    }\n",
              "\n",
              "    .dataframe tbody tr th {\n",
              "        vertical-align: top;\n",
              "    }\n",
              "\n",
              "    .dataframe thead th {\n",
              "        text-align: right;\n",
              "    }\n",
              "</style>\n",
              "<table border=\"1\" class=\"dataframe\">\n",
              "  <thead>\n",
              "    <tr style=\"text-align: right;\">\n",
              "      <th></th>\n",
              "      <th>real values</th>\n",
              "      <th>predictions</th>\n",
              "    </tr>\n",
              "  </thead>\n",
              "  <tbody>\n",
              "    <tr>\n",
              "      <th>0</th>\n",
              "      <td>0.50</td>\n",
              "      <td>1.406229</td>\n",
              "    </tr>\n",
              "    <tr>\n",
              "      <th>1</th>\n",
              "      <td>1.60</td>\n",
              "      <td>1.677708</td>\n",
              "    </tr>\n",
              "    <tr>\n",
              "      <th>2</th>\n",
              "      <td>-1.17</td>\n",
              "      <td>-0.038724</td>\n",
              "    </tr>\n",
              "    <tr>\n",
              "      <th>3</th>\n",
              "      <td>-0.45</td>\n",
              "      <td>0.780703</td>\n",
              "    </tr>\n",
              "    <tr>\n",
              "      <th>4</th>\n",
              "      <td>1.96</td>\n",
              "      <td>1.836084</td>\n",
              "    </tr>\n",
              "    <tr>\n",
              "      <th>...</th>\n",
              "      <td>...</td>\n",
              "      <td>...</td>\n",
              "    </tr>\n",
              "    <tr>\n",
              "      <th>835</th>\n",
              "      <td>1.26</td>\n",
              "      <td>1.812793</td>\n",
              "    </tr>\n",
              "    <tr>\n",
              "      <th>836</th>\n",
              "      <td>2.83</td>\n",
              "      <td>1.511309</td>\n",
              "    </tr>\n",
              "    <tr>\n",
              "      <th>837</th>\n",
              "      <td>1.34</td>\n",
              "      <td>1.420708</td>\n",
              "    </tr>\n",
              "    <tr>\n",
              "      <th>838</th>\n",
              "      <td>0.86</td>\n",
              "      <td>1.146283</td>\n",
              "    </tr>\n",
              "    <tr>\n",
              "      <th>839</th>\n",
              "      <td>0.97</td>\n",
              "      <td>2.025645</td>\n",
              "    </tr>\n",
              "  </tbody>\n",
              "</table>\n",
              "<p>840 rows × 2 columns</p>\n",
              "</div>\n",
              "      <button class=\"colab-df-convert\" onclick=\"convertToInteractive('df-bac1e902-f896-4aac-b9b7-247e3bb0abb9')\"\n",
              "              title=\"Convert this dataframe to an interactive table.\"\n",
              "              style=\"display:none;\">\n",
              "\n",
              "  <svg xmlns=\"http://www.w3.org/2000/svg\" height=\"24px\"viewBox=\"0 0 24 24\"\n",
              "       width=\"24px\">\n",
              "    <path d=\"M0 0h24v24H0V0z\" fill=\"none\"/>\n",
              "    <path d=\"M18.56 5.44l.94 2.06.94-2.06 2.06-.94-2.06-.94-.94-2.06-.94 2.06-2.06.94zm-11 1L8.5 8.5l.94-2.06 2.06-.94-2.06-.94L8.5 2.5l-.94 2.06-2.06.94zm10 10l.94 2.06.94-2.06 2.06-.94-2.06-.94-.94-2.06-.94 2.06-2.06.94z\"/><path d=\"M17.41 7.96l-1.37-1.37c-.4-.4-.92-.59-1.43-.59-.52 0-1.04.2-1.43.59L10.3 9.45l-7.72 7.72c-.78.78-.78 2.05 0 2.83L4 21.41c.39.39.9.59 1.41.59.51 0 1.02-.2 1.41-.59l7.78-7.78 2.81-2.81c.8-.78.8-2.07 0-2.86zM5.41 20L4 18.59l7.72-7.72 1.47 1.35L5.41 20z\"/>\n",
              "  </svg>\n",
              "      </button>\n",
              "\n",
              "\n",
              "\n",
              "    <div id=\"df-bf80f0b3-40e2-48a5-b5b3-20406310c6c4\">\n",
              "      <button class=\"colab-df-quickchart\" onclick=\"quickchart('df-bf80f0b3-40e2-48a5-b5b3-20406310c6c4')\"\n",
              "              title=\"Suggest charts.\"\n",
              "              style=\"display:none;\">\n",
              "\n",
              "<svg xmlns=\"http://www.w3.org/2000/svg\" height=\"24px\"viewBox=\"0 0 24 24\"\n",
              "     width=\"24px\">\n",
              "    <g>\n",
              "        <path d=\"M19 3H5c-1.1 0-2 .9-2 2v14c0 1.1.9 2 2 2h14c1.1 0 2-.9 2-2V5c0-1.1-.9-2-2-2zM9 17H7v-7h2v7zm4 0h-2V7h2v10zm4 0h-2v-4h2v4z\"/>\n",
              "    </g>\n",
              "</svg>\n",
              "      </button>\n",
              "    </div>\n",
              "\n",
              "<style>\n",
              "  .colab-df-quickchart {\n",
              "    background-color: #E8F0FE;\n",
              "    border: none;\n",
              "    border-radius: 50%;\n",
              "    cursor: pointer;\n",
              "    display: none;\n",
              "    fill: #1967D2;\n",
              "    height: 32px;\n",
              "    padding: 0 0 0 0;\n",
              "    width: 32px;\n",
              "  }\n",
              "\n",
              "  .colab-df-quickchart:hover {\n",
              "    background-color: #E2EBFA;\n",
              "    box-shadow: 0px 1px 2px rgba(60, 64, 67, 0.3), 0px 1px 3px 1px rgba(60, 64, 67, 0.15);\n",
              "    fill: #174EA6;\n",
              "  }\n",
              "\n",
              "  [theme=dark] .colab-df-quickchart {\n",
              "    background-color: #3B4455;\n",
              "    fill: #D2E3FC;\n",
              "  }\n",
              "\n",
              "  [theme=dark] .colab-df-quickchart:hover {\n",
              "    background-color: #434B5C;\n",
              "    box-shadow: 0px 1px 3px 1px rgba(0, 0, 0, 0.15);\n",
              "    filter: drop-shadow(0px 1px 2px rgba(0, 0, 0, 0.3));\n",
              "    fill: #FFFFFF;\n",
              "  }\n",
              "</style>\n",
              "\n",
              "    <script>\n",
              "      async function quickchart(key) {\n",
              "        const containerElement = document.querySelector('#' + key);\n",
              "        const charts = await google.colab.kernel.invokeFunction(\n",
              "            'suggestCharts', [key], {});\n",
              "      }\n",
              "    </script>\n",
              "\n",
              "      <script>\n",
              "\n",
              "function displayQuickchartButton(domScope) {\n",
              "  let quickchartButtonEl =\n",
              "    domScope.querySelector('#df-bf80f0b3-40e2-48a5-b5b3-20406310c6c4 button.colab-df-quickchart');\n",
              "  quickchartButtonEl.style.display =\n",
              "    google.colab.kernel.accessAllowed ? 'block' : 'none';\n",
              "}\n",
              "\n",
              "        displayQuickchartButton(document);\n",
              "      </script>\n",
              "      <style>\n",
              "    .colab-df-container {\n",
              "      display:flex;\n",
              "      flex-wrap:wrap;\n",
              "      gap: 12px;\n",
              "    }\n",
              "\n",
              "    .colab-df-convert {\n",
              "      background-color: #E8F0FE;\n",
              "      border: none;\n",
              "      border-radius: 50%;\n",
              "      cursor: pointer;\n",
              "      display: none;\n",
              "      fill: #1967D2;\n",
              "      height: 32px;\n",
              "      padding: 0 0 0 0;\n",
              "      width: 32px;\n",
              "    }\n",
              "\n",
              "    .colab-df-convert:hover {\n",
              "      background-color: #E2EBFA;\n",
              "      box-shadow: 0px 1px 2px rgba(60, 64, 67, 0.3), 0px 1px 3px 1px rgba(60, 64, 67, 0.15);\n",
              "      fill: #174EA6;\n",
              "    }\n",
              "\n",
              "    [theme=dark] .colab-df-convert {\n",
              "      background-color: #3B4455;\n",
              "      fill: #D2E3FC;\n",
              "    }\n",
              "\n",
              "    [theme=dark] .colab-df-convert:hover {\n",
              "      background-color: #434B5C;\n",
              "      box-shadow: 0px 1px 3px 1px rgba(0, 0, 0, 0.15);\n",
              "      filter: drop-shadow(0px 1px 2px rgba(0, 0, 0, 0.3));\n",
              "      fill: #FFFFFF;\n",
              "    }\n",
              "  </style>\n",
              "\n",
              "      <script>\n",
              "        const buttonEl =\n",
              "          document.querySelector('#df-bac1e902-f896-4aac-b9b7-247e3bb0abb9 button.colab-df-convert');\n",
              "        buttonEl.style.display =\n",
              "          google.colab.kernel.accessAllowed ? 'block' : 'none';\n",
              "\n",
              "        async function convertToInteractive(key) {\n",
              "          const element = document.querySelector('#df-bac1e902-f896-4aac-b9b7-247e3bb0abb9');\n",
              "          const dataTable =\n",
              "            await google.colab.kernel.invokeFunction('convertToInteractive',\n",
              "                                                     [key], {});\n",
              "          if (!dataTable) return;\n",
              "\n",
              "          const docLinkHtml = 'Like what you see? Visit the ' +\n",
              "            '<a target=\"_blank\" href=https://colab.research.google.com/notebooks/data_table.ipynb>data table notebook</a>'\n",
              "            + ' to learn more about interactive tables.';\n",
              "          element.innerHTML = '';\n",
              "          dataTable['output_type'] = 'display_data';\n",
              "          await google.colab.output.renderOutput(dataTable, element);\n",
              "          const docLink = document.createElement('div');\n",
              "          docLink.innerHTML = docLinkHtml;\n",
              "          element.appendChild(docLink);\n",
              "        }\n",
              "      </script>\n",
              "    </div>\n",
              "  </div>\n"
            ]
          },
          "metadata": {},
          "execution_count": 7
        }
      ]
    },
    {
      "cell_type": "markdown",
      "source": [
        "#### Calculating mean squared error and comparing it to average-based model\n"
      ],
      "metadata": {
        "id": "QowCowbgQn4E"
      }
    },
    {
      "cell_type": "code",
      "source": [
        "from statistics import mean\n",
        "\n",
        "test_data_mse = mean_squared_error(predictions,real_values)\n",
        "mean = mean(real_values)\n",
        "means = np.ones(len(real_values))*mean\n",
        "mean_error = mean_squared_error(means, real_values)\n",
        "\n",
        "print(f\"For the best model that we got, mean squared error is equal to {test_data_mse}, when average-based model would have mse at value {mean_error}.\")"
      ],
      "metadata": {
        "colab": {
          "base_uri": "https://localhost:8080/"
        },
        "id": "ZnPsbo4NQm-3",
        "outputId": "2e54e249-7e9e-42b7-b8dc-7990cc64fabe"
      },
      "execution_count": null,
      "outputs": [
        {
          "output_type": "stream",
          "name": "stdout",
          "text": [
            "For the best model that we got, mean squared error is equal to 0.6852791046673427, when average-based model would have mse at value 1.3840966787220848.\n"
          ]
        }
      ]
    },
    {
      "cell_type": "code",
      "source": [
        "import seaborn as sns\n",
        "plt = sns.scatterplot(data=df, x=\"real values\", y=\"predictions\")\n",
        "plt.axline(xy1 = (0,0), xy2=(1,1), color = \"orange\")\n",
        "plt.axhline(y = mean, color= \"r\")\n",
        "plt.set(xlim=(-1.5, 6))\n",
        "plt.set(ylim=(-1.5, 6))\n",
        "plt"
      ],
      "metadata": {
        "id": "-nG_n4uomyNe",
        "colab": {
          "base_uri": "https://localhost:8080/",
          "height": 472
        },
        "outputId": "05b24224-62d2-49ef-b4dc-514d2bc70e9b"
      },
      "execution_count": null,
      "outputs": [
        {
          "output_type": "execute_result",
          "data": {
            "text/plain": [
              "<Axes: xlabel='real values', ylabel='predictions'>"
            ]
          },
          "metadata": {},
          "execution_count": 9
        },
        {
          "output_type": "display_data",
          "data": {
            "text/plain": [
              "<Figure size 640x480 with 1 Axes>"
            ],
            "image/png": "[encoded data removed]"
          },
          "metadata": {}
        }
      ]
    },
    {
      "cell_type": "code",
      "source": [],
      "metadata": {
        "id": "-9pkFOZNSQ51"
      },
      "execution_count": null,
      "outputs": []
    }
  ]
}